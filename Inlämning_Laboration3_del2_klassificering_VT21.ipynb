{
  "nbformat": 4,
  "nbformat_minor": 0,
  "metadata": {
    "kernelspec": {
      "display_name": "Python 3",
      "language": "python",
      "name": "python3"
    },
    "language_info": {
      "codemirror_mode": {
        "name": "ipython",
        "version": 3
      },
      "file_extension": ".py",
      "mimetype": "text/x-python",
      "name": "python",
      "nbconvert_exporter": "python",
      "pygments_lexer": "ipython3",
      "version": "3.7.4"
    },
    "colab": {
      "name": "Inlämning_Laboration3_del2_klassificering_VT21.ipynb",
      "provenance": [],
      "collapsed_sections": [],
      "include_colab_link": true
    }
  },
  "cells": [
    {
      "cell_type": "markdown",
      "metadata": {
        "id": "view-in-github",
        "colab_type": "text"
      },
      "source": [
        "<a href=\"https://colab.research.google.com/github/karabash/2018webutvecklinglab3/blob/master/Inl%C3%A4mning_Laboration3_del2_klassificering_VT21.ipynb\" target=\"_parent\"><img src=\"https://colab.research.google.com/assets/colab-badge.svg\" alt=\"Open In Colab\"/></a>"
      ]
    },
    {
      "cell_type": "markdown",
      "metadata": {
        "id": "9wCg7MWzoAu3"
      },
      "source": [
        "# Laboration 3 del 2 klassificiering"
      ]
    },
    {
      "cell_type": "code",
      "metadata": {
        "colab": {
          "base_uri": "https://localhost:8080/",
          "height": 132
        },
        "id": "2Q-BDQQgkiVA",
        "outputId": "05083cb8-dba9-46a4-9521-42cf88a13d97"
      },
      "source": [
        "pip install missingno\r\n",
        "#https://coderzcolumn.com/tutorials/data-science/missingno-visualize-missing-data-in-python"
      ],
      "execution_count": null,
      "outputs": [
        {
          "output_type": "error",
          "ename": "SyntaxError",
          "evalue": "ignored",
          "traceback": [
            "\u001b[0;36m  File \u001b[0;32m\"<ipython-input-98-266f89668286>\"\u001b[0;36m, line \u001b[0;32m1\u001b[0m\n\u001b[0;31m    pip install missingno\u001b[0m\n\u001b[0m              ^\u001b[0m\n\u001b[0;31mSyntaxError\u001b[0m\u001b[0;31m:\u001b[0m invalid syntax\n"
          ]
        }
      ]
    },
    {
      "cell_type": "code",
      "metadata": {
        "id": "sMF0zGz8tMMy"
      },
      "source": [
        "import numpy as np\r\n",
        "import pandas as pd\r\n",
        "import seaborn as sb\r\n",
        "import matplotlib.pyplot as plt\r\n",
        "import sklearn\r\n",
        "from sklearn import datasets\r\n",
        "from pandas import Series, DataFrame\r\n",
        "from pylab import rcParams\r\n",
        "from sklearn import preprocessing\r\n",
        "from sklearn.linear_model import LogisticRegression\r\n",
        "from sklearn.model_selection import train_test_split\r\n",
        "from sklearn import metrics \r\n",
        "from sklearn.metrics import classification_report\r\n",
        "import missingno as msno"
      ],
      "execution_count": null,
      "outputs": []
    },
    {
      "cell_type": "code",
      "metadata": {
        "id": "OAAoVHoutNz-",
        "colab": {
          "base_uri": "https://localhost:8080/"
        },
        "outputId": "bfb7d2cd-d0a2-4987-e4f9-4bd97b21f614"
      },
      "source": [
        "from google.colab import drive\r\n",
        "try:\r\n",
        "    from google.colab import drive\r\n",
        "    drive.mount(\"/content/drive/\", force_remount=True)\r\n",
        "    google_drive_prefix = \"/content/drive/My Drive\"\r\n",
        "    data_prefix = \"{}/mnist/\".format(google_drive_prefix)\r\n",
        "except ModuleNotFoundError: \r\n",
        "    data_prefix = \"data/\"\r\n",
        "drive.mount('/content/drive')"
      ],
      "execution_count": null,
      "outputs": [
        {
          "output_type": "stream",
          "text": [
            "Mounted at /content/drive/\n",
            "Drive already mounted at /content/drive; to attempt to forcibly remount, call drive.mount(\"/content/drive\", force_remount=True).\n"
          ],
          "name": "stdout"
        }
      ]
    },
    {
      "cell_type": "code",
      "metadata": {
        "colab": {
          "base_uri": "https://localhost:8080/"
        },
        "id": "cqSd3A1EtSkg",
        "outputId": "143f74f8-d48f-4700-d733-2e06f0d4c1ad"
      },
      "source": [
        "import os\r\n",
        "os.chdir('/content/drive/MyDrive/lab3')\r\n",
        "!pwd"
      ],
      "execution_count": null,
      "outputs": [
        {
          "output_type": "stream",
          "text": [
            "/content/drive/MyDrive/lab3\n"
          ],
          "name": "stdout"
        }
      ]
    },
    {
      "cell_type": "code",
      "metadata": {
        "id": "muH3atSLtesE"
      },
      "source": [
        "%matplotlib inline\r\n",
        "rcParams['figure.figsize'] = 10, 8\r\n",
        "sb.set_style('whitegrid')"
      ],
      "execution_count": null,
      "outputs": []
    },
    {
      "cell_type": "markdown",
      "metadata": {
        "id": "10hXBqLSoAu6"
      },
      "source": [
        "## Klassificering\n",
        "\n",
        "I denna andra del ska ni testa att klassificera ett annat dataset med hjälp av två olika modeller för klassificering, logistiskt regression och desicion trees (som klarar såväl regression som klassificering). Vi kommer använda ett dataset som har data om överlevare från Titanic.\n",
        "\n",
        "Det dataset vi ska använda finns i datamappen på GitHub och heter Titanic. Några av de bibliotek ni behöver för att komma igång är också importerade i nedan kod. \n",
        "\n",
        "Den del av laboration som handlar om decision trees är inspirerad av David Johnsson på Uppsala universitet.\n"
      ]
    },
    {
      "cell_type": "markdown",
      "metadata": {
        "id": "DR5TnBquoAu9"
      },
      "source": [
        "### Logistisk regression för att bestämma om man överlever eller inte"
      ]
    },
    {
      "cell_type": "markdown",
      "metadata": {
        "id": "JGCEYUauoAu-"
      },
      "source": [
        "De frågor som ska besvaras är märkta med **Q** medan coduppgifter är märkta med **C**.\n",
        "\n",
        "I vissa fall finns flera delfrågor som kan innehålla både rena koduppgifter, frågor eller en kombination, dessa är märkta **QC**. Delfrågorna Dessa är i en lista med en bokstav framför, ex. a. Huruvida en deluppgift ska kodas eller enbart besvaras avgörs av er baserat på själva texten. När ni arbetar med uppgiften förväntas ni själva avgöra hur många kodblock som krävs för att kunna utföra uppgiften samt göra den tydlig och lätt att förstå. Samma sak gäller när ni kommenterar och besvarar frågor, skriv kortfattat men tydligt. **(OBS! Vissa uppgifter kräver flera kodblock, då behöver ni skapa dem!)**\n",
        "\n",
        "**Exempel:**\n",
        "\n",
        "**QC** Undersök hur många som levde och hur många som dog.\n",
        "\n",
        ">a. Antal som överlevde och antal som dog?\n",
        ">\n",
        ">b. Hur många % överlevde?\n",
        ">\n",
        ">c. Visualisera antal överlevare och antal döda i ett stapeldiagram"
      ]
    },
    {
      "cell_type": "code",
      "metadata": {
        "id": "3YzReVtTomxZ"
      },
      "source": [
        "train = pd.read_csv(\"/content/drive/MyDrive/lab3/titanic-train.csv\", encoding=\"utf-8\", sep=',')\n"
      ],
      "execution_count": 368,
      "outputs": []
    },
    {
      "cell_type": "markdown",
      "metadata": {
        "id": "_vb8OxfqoAvB"
      },
      "source": [
        "\n",
        "\n",
        "\n",
        "<h3>Q Nedan är en översikt över några kolumner - fyll i vad varje kolumn står för där information saknas</h3>\n",
        "<ol>\n",
        "<li> `survival` - data type är int64 - 0 representeras vemsom dog och 1 representerar vem som överlevd </li>\n",
        "<li> `pclass` - typ av biljetter (de sepereras 3 klasser)</li>\n",
        "<li> `sex` - kön - string datatype</li>\n",
        "<li> `age`- missing almost 20% </li>\n",
        "<li> `sibsp` - # av syskon/äkta hälft ombord </li>\n",
        "<li> `parch` - # av föräldrar/barn ombord </li>\n",
        "<li> `ticket` - biljet nummer och data typen är string  </li>\n",
        "<li> `fare` - data type är int och det representerar pris </li>\n",
        "<li> `cabin` - missing over 77% - cabin nummer datatypen är string/objekt</li>\n",
        "<li> `embarked` - missing 2%\n",
        "\n",
        "Hamn där man steg ombord (C = Cherbourg, Q = Queenstown, S = Southampton)</li>\n",
        "</ol> \n",
        "\n",
        "\n",
        "<h3>Koden</h3>\n",
        "<p> Kolla gärna på frågan Vilka kolumner har nullvärden? för att se <strong>coden</strong> Elin 😊</p>\n",
        "\n"
      ]
    },
    {
      "cell_type": "code",
      "metadata": {
        "colab": {
          "base_uri": "https://localhost:8080/"
        },
        "id": "TlQMbbsDJb0D",
        "outputId": "2e6ae334-78b2-4967-c83c-be5dcd786b03"
      },
      "source": [
        "\r\n",
        "#yellow lines represent nan values \r\n",
        "#sb.heatmap(df.isnull(), yticklabels=False, cbar=False, cmap=\"viridis\")\r\n",
        "#plt.show()\r\n",
        "# or you can use this one\r\n",
        "na_cols = []\r\n",
        "for i in train.columns:\r\n",
        "        if train[i].isnull().sum() != 0:\r\n",
        "            na_cols.append([i, train[i].isnull().sum(), round( train[i].isnull().sum() / len(train[i]) * 100)])\r\n",
        "for i in na_cols:\r\n",
        "   print(i)\r\n",
        "\r\n",
        "\r\n"
      ],
      "execution_count": 369,
      "outputs": [
        {
          "output_type": "stream",
          "text": [
            "['Age', 177, 20]\n",
            "['Cabin', 687, 77]\n",
            "['Embarked', 2, 0]\n"
          ],
          "name": "stdout"
        }
      ]
    },
    {
      "cell_type": "markdown",
      "metadata": {
        "id": "Gduue67UoAvB"
      },
      "source": [
        "\r\n",
        "<h3>Q Hur många passagerare fanns på Titanic enligt ert dataset?</h3>\r\n",
        "\r\n"
      ]
    },
    {
      "cell_type": "code",
      "metadata": {
        "colab": {
          "base_uri": "https://localhost:8080/",
          "height": 35
        },
        "id": "YkgR3B6J8pLe",
        "outputId": "838dcf16-576d-4f2b-8bad-9f30954f8613"
      },
      "source": [
        "#result = df.pivot_table(index='Sex', columns='Pclass', aggfunc={'Survived':sum, 'Fare':'mean'})\r\n",
        "#print(result)\r\n",
        "\r\n",
        "ret = train.shape[0] \r\n",
        "display(\"På tittanic fanns \"+ str (ret)+ \" passagerare\")\r\n",
        "\r\n"
      ],
      "execution_count": 370,
      "outputs": [
        {
          "output_type": "display_data",
          "data": {
            "application/vnd.google.colaboratory.intrinsic+json": {
              "type": "string"
            },
            "text/plain": [
              "'På tittanic fanns 891 passagerare'"
            ]
          },
          "metadata": {
            "tags": []
          }
        }
      ]
    },
    {
      "cell_type": "markdown",
      "metadata": {
        "id": "VX_N4Bb3oAvB"
      },
      "source": [
        "<h2> Explorativ dataanalys</h2>\n",
        "\n",
        "<p>För att veta vilka data som har betydelse när det handlar om att klassificera huruvida en person lever eller dör behöver vi undersöka vårt dataset med fokus på vilka variabler som påverkar `survival` som är den beroende variabel vi vill prediktera, allts vårt y. Först behöver vi dock städa och förbereda data för analys.</p>"
      ]
    },
    {
      "cell_type": "markdown",
      "metadata": {
        "id": "r0i0avHUoAvC"
      },
      "source": [
        "<h3> QC Undersök hur många som levde och hur många som dog.</h3>\n",
        "<ol type=\"a\">\n",
        "<li>Antal som överlevde och antal somdog?</li>\n",
        "<li>Hur många % överlevde?</li>\n",
        "<li>Visualisera antal överlevare och antal döda i ett stapeldiagram</li>\n",
        "</ol> "
      ]
    },
    {
      "cell_type": "code",
      "metadata": {
        "colab": {
          "base_uri": "https://localhost:8080/",
          "height": 35
        },
        "id": "bPbmBE4YTJao",
        "outputId": "e13f1503-3dac-4121-ead0-194850320748"
      },
      "source": [
        "a = train.Survived.value_counts()\r\n",
        "display(\"överlevde \" + str (a.loc[1] ) + \", dog \" + str (a.loc[0]) + \" männsikor\" )"
      ],
      "execution_count": 371,
      "outputs": [
        {
          "output_type": "display_data",
          "data": {
            "application/vnd.google.colaboratory.intrinsic+json": {
              "type": "string"
            },
            "text/plain": [
              "'överlevde 342, dog 549 männsikor'"
            ]
          },
          "metadata": {
            "tags": []
          }
        }
      ]
    },
    {
      "cell_type": "code",
      "metadata": {
        "colab": {
          "base_uri": "https://localhost:8080/",
          "height": 50
        },
        "id": "wFpBa-5YTKO7",
        "outputId": "1419234f-045e-45a9-c4b4-1656bf4199aa"
      },
      "source": [
        "#b 38.38 procent survived\r\n",
        "display(train[['Survived']].mean()*100)"
      ],
      "execution_count": 372,
      "outputs": [
        {
          "output_type": "display_data",
          "data": {
            "text/plain": [
              "Survived    38.383838\n",
              "dtype: float64"
            ]
          },
          "metadata": {
            "tags": []
          }
        }
      ]
    },
    {
      "cell_type": "code",
      "metadata": {
        "colab": {
          "base_uri": "https://localhost:8080/",
          "height": 479
        },
        "id": "GE_KPb-iRlJB",
        "outputId": "a261af00-5e12-4067-b827-53cca84bdefb"
      },
      "source": [
        "c = train.Survived.value_counts(normalize=True).plot(kind=\"bar\", alpha=0.5, color = ['red', 'aqua'])\r\n",
        "# it shows almost 40 procent survived, 60procent died"
      ],
      "execution_count": 373,
      "outputs": [
        {
          "output_type": "display_data",
          "data": {
            "image/png": "[encoded data removed]",
            "text/plain": [
              "<Figure size 720x576 with 1 Axes>"
            ]
          },
          "metadata": {
            "tags": []
          }
        }
      ]
    },
    {
      "cell_type": "markdown",
      "metadata": {
        "id": "KIHBCzL8oAvC"
      },
      "source": [
        "**QC** Städa ert data, hantera nullvärden, kontrollera outliers, typ av variabler (kategoriska, kontinuerliga, numeriska/labels)\n",
        "\n"
      ]
    },
    {
      "cell_type": "markdown",
      "metadata": {
        "id": "Xp16fhVKOfjO"
      },
      "source": [
        "a. Vilka kolumner har nullvärden?"
      ]
    },
    {
      "cell_type": "code",
      "metadata": {
        "colab": {
          "base_uri": "https://localhost:8080/",
          "height": 620
        },
        "id": "WxG3W9j8OdKs",
        "outputId": "afef91a8-76e5-4f95-ce12-787c9f823c93"
      },
      "source": [
        "print(train.isna().sum())\r\n",
        "\r\n",
        "msno.bar(train, color=\"dodgerblue\", sort=\"ascending\", figsize=(10,5), fontsize=12);\r\n"
      ],
      "execution_count": 374,
      "outputs": [
        {
          "output_type": "stream",
          "text": [
            "PassengerId      0\n",
            "Survived         0\n",
            "Pclass           0\n",
            "Name             0\n",
            "Sex              0\n",
            "Age            177\n",
            "SibSp            0\n",
            "Parch            0\n",
            "Ticket           0\n",
            "Fare             0\n",
            "Cabin          687\n",
            "Embarked         2\n",
            "dtype: int64\n"
          ],
          "name": "stdout"
        },
        {
          "output_type": "display_data",
          "data": {
            "image/png": "[encoded data removed]",
            "text/plain": [
              "<Figure size 720x360 with 3 Axes>"
            ]
          },
          "metadata": {
            "tags": []
          }
        }
      ]
    },
    {
      "cell_type": "markdown",
      "metadata": {
        "id": "KfAk-_1QOiJf"
      },
      "source": [
        "b. Hur kan dessa hanteras?"
      ]
    },
    {
      "cell_type": "markdown",
      "metadata": {
        "id": "2paIRAsOK43H"
      },
      "source": [
        "<ol>\r\n",
        "<li type=\"I\"> Removing rows or column  entirely\r\n",
        "<p>We don't want to loss lot of data when we are making an analyse ( we are losing dataframe size while using drop method - this makes an other problem even if it seems we are solving missing values. If all of our columns are usefull, we will sick to removing rows (i wouldn't not using drop method if i will lose more than 5% because it is diffucult using accurate or precise analys on the dataframe). Pros is cleaning data quickly without gyessing.Cons is certain columns are missing values for many rows as i mentioned we can lose too much informatoin</br></br>\r\n",
        "delete rows with missing values<br>\r\n",
        "df.dropna()</p></li><br>\r\n",
        "<li>Impute missing values</li>\r\n",
        "<p>Instead of losing data with drop method, we can replace values woth mean, median or mode method and using fillna method for giving a value instead of droppin'. The pros to this is we don't lose full rows or colums that may be important but cons is we are adding unvertainty our column</p> \r\n",
        "<p>print(mean_age_df, median_age_df, mode_age_df)</br>\r\n",
        "mean_age_df = df.Age.mean()</br>\r\n",
        "median_age_df = df.Age.median()</br>\r\n",
        "mode_age_df = df.Age.mode()</br>\r\n",
        "df.Age.fillna(mean_age_df, inplace=True)</br></p></br>\r\n",
        "</p> we should go for categorical also, titanic dataframe has cabine col we can make diffrent categories as C85,\tC148\tetc. We can count these column values and replace null values of max_count apperaence of value. It may not be accurate!\r\n",
        "<p> or df.Name.fillna(\"unknown, inplace=\"True\")</br></br>\r\n",
        "\r\n",
        "\r\n",
        "<li>Mask <p> create a category for missing values. We don't lose any rows and columns. Con is we are adding another level of  uncertainty to our model based on assumption</li>\r\n",
        " \r\n",
        "\r\n",
        "</ol>\r\n"
      ]
    },
    {
      "cell_type": "markdown",
      "metadata": {
        "id": "kjaBcmt1Olpi"
      },
      "source": [
        "<h3>c.Vilken typ av nullvärden har ni (MCAR/MAR/NMAR)?</h3>"
      ]
    },
    {
      "cell_type": "markdown",
      "metadata": {
        "id": "wgnSrROKJzjP"
      },
      "source": [
        "<br>\r\n",
        "<ol type=\"I\">\r\n",
        "       <li>Missing completely at random (MCAR)<br><br> <p>MCAR, there is absolutely no relationship between the data missing and any other values, observed or missing, within the dataset. In other words, those missing data points are a random subset of the data. There is no systematic approach going on that makes some data more likely to be missing than other.<br><br>\r\n",
        "       The statistical advantage of data that are MCAR is that the analysis remains unbiased. Power may be lost in the design, but the estimated parameters are not biased by the absence of the data.<br><br>\r\n",
        "Mean/median imputation has the assumption that the data are missing completely at random (MCAR). We solve this by replacing the NAN with the most frequent occurrence of the variables.<br><p>The Embarked Column has very few missing values and donot seem to be correlated with any other column, Hence, the missingness in Embarked column can be attributed as Missing Completely at Random.</p><br>\r\n",
        "\r\n",
        "\r\n",
        "</p></li>\r\n",
        "       <li>Missing not at random (MNAR) </br></br>\r\n",
        "       <p>Systematic missing Values There is absolutely some relationship between the data missing and any other values, observed or missing, within the dataset.</br></br>\r\n",
        "\r\n",
        "The only way to obtain an unbiased estimate of the parameters in such a case is to model the missing data.</br></br>\r\n",
        "This kind of strategy works well if the data are not missing completely at random (MNAR).\r\n",
        "\r\n",
        "Capture Nan values with a key value of 0 or 1, and replace the Nan values in field with any strategy like mean, median or mode.</br></br>\r\n",
        "\r\n",
        "This way there will be a key with us for further seeing if Nan values had any effect on distribution of data.\r\n",
        "\r\n",
        "\r\n",
        "</p></li></br></br>\r\n",
        "       <li>Missing at random (MAR)<p></br>The missing data here is affected only by the complete (observed) variables and not by the characteristics of the missing data itself. in other words , for a data point , to be missing is not related to the missing data, but it is related to some of ( or all ) the observed data.<br><p>Age and the Cabin columns have a lot of missing values.This could be a case of MAR as we cannot directly observe the reason for missingness of data in these columns.</p>  \r\n",
        "</li>\r\n",
        "     </ol>\r\n",
        "\r\n"
      ]
    },
    {
      "cell_type": "markdown",
      "metadata": {
        "id": "GMU46OkEOnUP"
      },
      "source": [
        "<h3>d. Vilka risker finns med ert sätt att hantera nullvärden? Varför?</h3>"
      ]
    },
    {
      "cell_type": "markdown",
      "metadata": {
        "id": "G96CHKUy1NPH"
      },
      "source": [
        "jag har förklarat under - b. Hur kan dessa hanteras? \r\n",
        "\r\n"
      ]
    },
    {
      "cell_type": "markdown",
      "metadata": {
        "id": "AyCnN5uRO2fR"
      },
      "source": [
        "<h3>e.Finns det outliers? Behöver de hanteras?</h3>"
      ]
    },
    {
      "cell_type": "markdown",
      "metadata": {
        "id": "2Ouzww4n1gf8"
      },
      "source": [
        "An outlier is an observation in data that is distant from most other observations. It is diffucult to answer sometimes outliers have more information instead of dropping i would like the handle... I found an outliers in Fare column\r\n",
        "\r\n",
        "\r\n",
        "sb.boxplot(data=df,x=df[\"Fare\"])\r\n",
        "print(df[\"Fare\"].mean())\r\n",
        "\r\n",
        "\r\n",
        "\r\n"
      ]
    },
    {
      "cell_type": "code",
      "metadata": {
        "colab": {
          "base_uri": "https://localhost:8080/",
          "height": 565
        },
        "id": "VCFSYRPvUcFo",
        "outputId": "cd2034be-c598-4538-ef1c-120cfc3184e1"
      },
      "source": [
        "\r\n",
        "\r\n",
        "#Fare\r\n",
        "sb.boxplot(data=train,x=train[\"Fare\"])\r\n",
        "print(train[\"Fare\"].mean())\r\n",
        "\r\n",
        "\r\n",
        "\r\n",
        "''' i make some calculation wrong - i will be back  before deadline\r\n",
        "q25, q50, q75 = np.percentile(df_outliers, [25,50,75])\r\n",
        "iqr = q75 - q25\r\n",
        "\r\n",
        "#calculate the min / max limits to be considered as outlier\r\n",
        "min = q25 - 1.5*(iqr)\r\n",
        "max = q75 + 1.5*(iqr)\r\n",
        "\r\n",
        "print(min, q25, q50, q75, max)\r\n",
        "\r\n",
        "[x for x in df_outliers['Age'] if x > max] \r\n",
        "\r\n",
        "df_outliers'''\r\n",
        "\r\n"
      ],
      "execution_count": 375,
      "outputs": [
        {
          "output_type": "stream",
          "text": [
            "32.2042079685746\n"
          ],
          "name": "stdout"
        },
        {
          "output_type": "execute_result",
          "data": {
            "application/vnd.google.colaboratory.intrinsic+json": {
              "type": "string"
            },
            "text/plain": [
              "\" i make some calculation wrong - i will be back  before deadline\\nq25, q50, q75 = np.percentile(df_outliers, [25,50,75])\\niqr = q75 - q25\\n\\n#calculate the min / max limits to be considered as outlier\\nmin = q25 - 1.5*(iqr)\\nmax = q75 + 1.5*(iqr)\\n\\nprint(min, q25, q50, q75, max)\\n\\n[x for x in df_outliers['Age'] if x > max] \\n\\ndf_outliers\""
            ]
          },
          "metadata": {
            "tags": []
          },
          "execution_count": 375
        },
        {
          "output_type": "display_data",
          "data": {
            "image/png": "[encoded data removed]",
            "text/plain": [
              "<Figure size 720x576 with 1 Axes>"
            ]
          },
          "metadata": {
            "tags": []
          }
        }
      ]
    },
    {
      "cell_type": "markdown",
      "metadata": {
        "id": "nqYohkyBO5nL"
      },
      "source": [
        "<h3>f.Vilka variabler är kategoriska och vilka är kontinuerliga?</h3>\r\n",
        "\r\n",
        "Sex, Name, Cabin columns, Embarked are of Categorical datatype. (we can't take avarege, mean etc) "
      ]
    },
    {
      "cell_type": "markdown",
      "metadata": {
        "id": "9uRb_MuPoAvD"
      },
      "source": [
        "<h2>I följande uppgifter ska ni testa två olika varianter för att ersätta null och jämföra dessa med varandra samt välja den bästa för ert syfte. </h2>\n",
        "<h3>\n",
        "**C** Ersätt null med medianåldern</h3>\n",
        "<p><strong>**OBS!**</strong> Kom ihåg att du måste spara dina ändringar i en ny dataframe, det går inte att ta bort null två gånger ur samma dataframe. </p>\n"
      ]
    },
    {
      "cell_type": "code",
      "metadata": {
        "id": "lpyXgs1qoAvD",
        "colab": {
          "base_uri": "https://localhost:8080/",
          "height": 513
        },
        "outputId": "9a4aa467-c668-44c8-d986-27dd5240126e"
      },
      "source": [
        "\n",
        "#Ersätt ålder med medianåldern\n",
        "\n",
        "df_age_and_pclass = ['Age','Pclass']\n",
        "titanic_passenger_fill_null_median =  train['Age'].median()\n",
        "\n",
        "train.Age.fillna(titanic_passenger_fill_null_median,inplace=True)\n",
        "\n",
        "sb.boxplot(data=train,x=train[\"Age\"])\n",
        "print(train[\"Age\"].mean())\n",
        "\n",
        "\n"
      ],
      "execution_count": 376,
      "outputs": [
        {
          "output_type": "stream",
          "text": [
            "29.36158249158249\n"
          ],
          "name": "stdout"
        },
        {
          "output_type": "display_data",
          "data": {
            "image/png": "[encoded data removed]",
            "text/plain": [
              "<Figure size 720x576 with 1 Axes>"
            ]
          },
          "metadata": {
            "tags": []
          }
        }
      ]
    },
    {
      "cell_type": "markdown",
      "metadata": {
        "id": "LW8w5FI9oAvE"
      },
      "source": [
        "**CQ** Ersätt null med lämpliga värden baserat på andra variabler i ert dataset.\n",
        "<ol >\n",
        "<li> För att beräkna korrelationen mellan olika variabler i ett dataset kan vi använda pandas inbyggda `corr()`. I nedan kodcell kontrolleras samtliga variabler gentemot varandra.</li>\n",
        "\n",
        "<li>Varför är det 1.00000 i flera rader?</li>\n",
        "\n",
        "<li>En rule of thumb kan sägas vara att varaibler är </li><ol><li>svagt korrelerande om korrelationskoefficienten (r) <strong>är mellan 0,2-0,39</strong></li> <li>medelkorrelerade <strong>mellan 0,4-0,59</strong>,</li> <li> starkt korrelerade mellan <strong>0,6-0,79</strong>, <li> <strong>över 0,8</strong> är mycket stark </li> <li>korrelation och <strong>1 är helt beroende</strong> variabler.</li></ol>\n",
        "\n",
        "<li>Den starkaste korrelationen finns mellan ålder och klass. Vilken typ av korrelation är det (negativ eller positiv) och hur stark?</li>\n",
        "\n",
        "<li>I cellen under korrelationsberäkningen görs en visualisering av ålder i relation till klass. Vad säger den?</li>\n",
        "\n",
        "<li>Ersätt nullvärdena i age baserat på vad du kom fram till i fråga 5. </li>\n",
        "</ol>\n"
      ]
    },
    {
      "cell_type": "code",
      "metadata": {
        "colab": {
          "base_uri": "https://localhost:8080/",
          "height": 487
        },
        "id": "xa87hva4PL82",
        "outputId": "daa19cca-eb86-473e-ea3b-438b485c264a"
      },
      "source": [
        "#1\r\n",
        "correlation_mat = train.corr()\r\n",
        "corr_pairs = correlation_mat.unstack()\r\n",
        "\r\n",
        "df_corr = pd.DataFrame(train, columns=['PassengerId','Survived','Pclass', 'Name', 'Sex', 'Age', 'SibSp', 'Parch', 'Ticket','Fare','Cabin','Embarked'])\r\n",
        "sb.heatmap(correlation_mat, annot = True, cmap= 'coolwarm', linewidths=3, linecolor='black')\r\n",
        "plt.show()\r\n"
      ],
      "execution_count": 377,
      "outputs": [
        {
          "output_type": "display_data",
          "data": {
            "image/png": "[encoded data removed]",
            "text/plain": [
              "<Figure size 720x576 with 2 Axes>"
            ]
          },
          "metadata": {
            "tags": []
          }
        }
      ]
    },
    {
      "cell_type": "markdown",
      "metadata": {
        "id": "ocNRiE2BPOx-"
      },
      "source": [
        "\r\n",
        "#2\r\n",
        "''''the line of 1.00s going from the top left to the bottom right is the main diagonal,\r\n",
        " which shows that each variable always perfectly correlates with itself.'''"
      ]
    },
    {
      "cell_type": "code",
      "metadata": {
        "colab": {
          "base_uri": "https://localhost:8080/"
        },
        "id": "WnsGod5ePNgL",
        "outputId": "730e963a-dcd0-4fd1-f520-2be260ecccb3"
      },
      "source": [
        "#3\r\n",
        "sorted_pairs = corr_pairs.sort_values(kind=\"quicksort\")\r\n",
        "\r\n",
        "low_correlated = sorted_pairs\r\n",
        "low_correlated = low_correlated[(low_correlated > 0.2 ) & (low_correlated <  0.39)]\r\n",
        "print(\"\\nlow_correlated\\n\", low_correlated)\r\n",
        "\r\n",
        "moderately_correlated = sorted_pairs\r\n",
        "moderately_correlated = moderately_correlated[(moderately_correlated > 0.4 ) & (moderately_correlated <  0.59)]\r\n",
        "print(\"\\nmoderately_correlated\\n\", moderately_correlated)\r\n",
        "\r\n",
        "strong_correlated = sorted_pairs\r\n",
        "moderately_correlated = strong_correlated[(strong_correlated > 0.6 ) & (moderately_correlated <  0.79)]\r\n",
        "print(\"\\nstrong_correlated\\n\", strong_correlated)\r\n",
        "\r\n",
        "\r\n",
        "indeed_strong_pairs = sorted_pairs[abs(sorted_pairs) > 0.8]\r\n",
        "print(\"\\nindeed_strong_pairs\\n\", indeed_strong_pairs)\r\n",
        "\r\n",
        "\r\n",
        "completely_dependent = sorted_pairs[abs(sorted_pairs) == 1]\r\n",
        "print(\"\\ncompletely_dependent\\n\", completely_dependent)\r\n"
      ],
      "execution_count": 378,
      "outputs": [
        {
          "output_type": "stream",
          "text": [
            "\n",
            "low_correlated\n",
            " Parch     Fare        0.216225\n",
            "Fare      Parch       0.216225\n",
            "Survived  Fare        0.257307\n",
            "Fare      Survived    0.257307\n",
            "dtype: float64\n",
            "\n",
            "moderately_correlated\n",
            " SibSp  Parch    0.414838\n",
            "Parch  SibSp    0.414838\n",
            "dtype: float64\n",
            "\n",
            "strong_correlated\n",
            " Pclass       Fare          -0.549500\n",
            "Fare         Pclass        -0.549500\n",
            "Pclass       Age           -0.339898\n",
            "Age          Pclass        -0.339898\n",
            "Pclass       Survived      -0.338481\n",
            "Survived     Pclass        -0.338481\n",
            "SibSp        Age           -0.233296\n",
            "Age          SibSp         -0.233296\n",
            "             Parch         -0.172482\n",
            "Parch        Age           -0.172482\n",
            "Age          Survived      -0.064910\n",
            "Survived     Age           -0.064910\n",
            "SibSp        PassengerId   -0.057527\n",
            "PassengerId  SibSp         -0.057527\n",
            "SibSp        Survived      -0.035322\n",
            "Survived     SibSp         -0.035322\n",
            "Pclass       PassengerId   -0.035144\n",
            "PassengerId  Pclass        -0.035144\n",
            "Survived     PassengerId   -0.005007\n",
            "PassengerId  Survived      -0.005007\n",
            "Parch        PassengerId   -0.001652\n",
            "PassengerId  Parch         -0.001652\n",
            "             Fare           0.012658\n",
            "Fare         PassengerId    0.012658\n",
            "Parch        Pclass         0.018443\n",
            "Pclass       Parch          0.018443\n",
            "Age          PassengerId    0.034212\n",
            "PassengerId  Age            0.034212\n",
            "Survived     Parch          0.081629\n",
            "Parch        Survived       0.081629\n",
            "Pclass       SibSp          0.083081\n",
            "SibSp        Pclass         0.083081\n",
            "Age          Fare           0.096688\n",
            "Fare         Age            0.096688\n",
            "SibSp        Fare           0.159651\n",
            "Fare         SibSp          0.159651\n",
            "Parch        Fare           0.216225\n",
            "Fare         Parch          0.216225\n",
            "Survived     Fare           0.257307\n",
            "Fare         Survived       0.257307\n",
            "SibSp        Parch          0.414838\n",
            "Parch        SibSp          0.414838\n",
            "PassengerId  PassengerId    1.000000\n",
            "Age          Age            1.000000\n",
            "SibSp        SibSp          1.000000\n",
            "Pclass       Pclass         1.000000\n",
            "Survived     Survived       1.000000\n",
            "Parch        Parch          1.000000\n",
            "Fare         Fare           1.000000\n",
            "dtype: float64\n",
            "\n",
            "indeed_strong_pairs\n",
            " PassengerId  PassengerId    1.0\n",
            "Age          Age            1.0\n",
            "SibSp        SibSp          1.0\n",
            "Pclass       Pclass         1.0\n",
            "Survived     Survived       1.0\n",
            "Parch        Parch          1.0\n",
            "Fare         Fare           1.0\n",
            "dtype: float64\n",
            "\n",
            "completely_dependent\n",
            " PassengerId  PassengerId    1.0\n",
            "Age          Age            1.0\n",
            "SibSp        SibSp          1.0\n",
            "Pclass       Pclass         1.0\n",
            "Survived     Survived       1.0\n",
            "Parch        Parch          1.0\n",
            "Fare         Fare           1.0\n",
            "dtype: float64\n"
          ],
          "name": "stdout"
        }
      ]
    },
    {
      "cell_type": "markdown",
      "metadata": {
        "id": "yT7z3FezPTVn"
      },
      "source": [
        "4 Low correlation between \"Age\" and \"Pclass because is given a value closer to -1.\" \r\n",
        "check = sorted_pairs['Age','Pclass']\r\n",
        "display(check)"
      ]
    },
    {
      "cell_type": "code",
      "metadata": {
        "colab": {
          "base_uri": "https://localhost:8080/",
          "height": 513
        },
        "id": "0Yb7NwpTafpU",
        "outputId": "89c2c7b6-55b9-40b8-e555-a41cb5c66d7a"
      },
      "source": [
        "sb.boxplot(x='Pclass', y='Age', data=train, palette='hls')\r\n"
      ],
      "execution_count": 379,
      "outputs": [
        {
          "output_type": "execute_result",
          "data": {
            "text/plain": [
              "<matplotlib.axes._subplots.AxesSubplot at 0x7fb0daaef650>"
            ]
          },
          "metadata": {
            "tags": []
          },
          "execution_count": 379
        },
        {
          "output_type": "display_data",
          "data": {
            "image/png": "[encoded data removed]",
            "text/plain": [
              "<Figure size 720x576 with 1 Axes>"
            ]
          },
          "metadata": {
            "tags": []
          }
        }
      ]
    },
    {
      "cell_type": "code",
      "metadata": {
        "id": "QGnR24rP3CFw",
        "colab": {
          "base_uri": "https://localhost:8080/",
          "height": 404
        },
        "outputId": "d9b0476b-d706-4c14-b896-4ebe9405031b"
      },
      "source": [
        "#6 # jag översätt de enligt ovanför boxplot\r\n",
        "train[\"Age_cat\"] = 0\r\n",
        "\r\n",
        "def impute_age(cols):\r\n",
        "  Age = cols[1]\r\n",
        "  Pclass = cols[0]\r\n",
        "  if pd.isnull(Pclass):\r\n",
        "   if Pclass == \"1\": \r\n",
        "    return 37\r\n",
        "   elif Pclass == \"2\":\r\n",
        "    return 29\r\n",
        "   else:\r\n",
        "    return 24\r\n",
        "  else:\r\n",
        "   return Age\r\n",
        "\r\n",
        "train[\"Age_cat\"] = train[['Age','Pclass']].apply(impute_age, axis = 1)\r\n",
        "#print(train.isna().sum())\r\n",
        "\r\n",
        "\r\n",
        "\r\n",
        "\r\n",
        "train"
      ],
      "execution_count": 380,
      "outputs": [
        {
          "output_type": "execute_result",
          "data": {
            "text/html": [
              "<div>\n",
              "<style scoped>\n",
              "    .dataframe tbody tr th:only-of-type {\n",
              "        vertical-align: middle;\n",
              "    }\n",
              "\n",
              "    .dataframe tbody tr th {\n",
              "        vertical-align: top;\n",
              "    }\n",
              "\n",
              "    .dataframe thead th {\n",
              "        text-align: right;\n",
              "    }\n",
              "</style>\n",
              "<table border=\"1\" class=\"dataframe\">\n",
              "  <thead>\n",
              "    <tr style=\"text-align: right;\">\n",
              "      <th></th>\n",
              "      <th>PassengerId</th>\n",
              "      <th>Survived</th>\n",
              "      <th>Pclass</th>\n",
              "      <th>Name</th>\n",
              "      <th>Sex</th>\n",
              "      <th>Age</th>\n",
              "      <th>SibSp</th>\n",
              "      <th>Parch</th>\n",
              "      <th>Ticket</th>\n",
              "      <th>Fare</th>\n",
              "      <th>Cabin</th>\n",
              "      <th>Embarked</th>\n",
              "      <th>Age_cat</th>\n",
              "    </tr>\n",
              "  </thead>\n",
              "  <tbody>\n",
              "    <tr>\n",
              "      <th>0</th>\n",
              "      <td>1</td>\n",
              "      <td>0</td>\n",
              "      <td>3</td>\n",
              "      <td>Braund, Mr. Owen Harris</td>\n",
              "      <td>male</td>\n",
              "      <td>22.0</td>\n",
              "      <td>1</td>\n",
              "      <td>0</td>\n",
              "      <td>A/5 21171</td>\n",
              "      <td>7.2500</td>\n",
              "      <td>NaN</td>\n",
              "      <td>S</td>\n",
              "      <td>3.0</td>\n",
              "    </tr>\n",
              "    <tr>\n",
              "      <th>1</th>\n",
              "      <td>2</td>\n",
              "      <td>1</td>\n",
              "      <td>1</td>\n",
              "      <td>Cumings, Mrs. John Bradley (Florence Briggs Th...</td>\n",
              "      <td>female</td>\n",
              "      <td>38.0</td>\n",
              "      <td>1</td>\n",
              "      <td>0</td>\n",
              "      <td>PC 17599</td>\n",
              "      <td>71.2833</td>\n",
              "      <td>C85</td>\n",
              "      <td>C</td>\n",
              "      <td>1.0</td>\n",
              "    </tr>\n",
              "    <tr>\n",
              "      <th>2</th>\n",
              "      <td>3</td>\n",
              "      <td>1</td>\n",
              "      <td>3</td>\n",
              "      <td>Heikkinen, Miss. Laina</td>\n",
              "      <td>female</td>\n",
              "      <td>26.0</td>\n",
              "      <td>0</td>\n",
              "      <td>0</td>\n",
              "      <td>STON/O2. 3101282</td>\n",
              "      <td>7.9250</td>\n",
              "      <td>NaN</td>\n",
              "      <td>S</td>\n",
              "      <td>3.0</td>\n",
              "    </tr>\n",
              "    <tr>\n",
              "      <th>3</th>\n",
              "      <td>4</td>\n",
              "      <td>1</td>\n",
              "      <td>1</td>\n",
              "      <td>Futrelle, Mrs. Jacques Heath (Lily May Peel)</td>\n",
              "      <td>female</td>\n",
              "      <td>35.0</td>\n",
              "      <td>1</td>\n",
              "      <td>0</td>\n",
              "      <td>113803</td>\n",
              "      <td>53.1000</td>\n",
              "      <td>C123</td>\n",
              "      <td>S</td>\n",
              "      <td>1.0</td>\n",
              "    </tr>\n",
              "    <tr>\n",
              "      <th>4</th>\n",
              "      <td>5</td>\n",
              "      <td>0</td>\n",
              "      <td>3</td>\n",
              "      <td>Allen, Mr. William Henry</td>\n",
              "      <td>male</td>\n",
              "      <td>35.0</td>\n",
              "      <td>0</td>\n",
              "      <td>0</td>\n",
              "      <td>373450</td>\n",
              "      <td>8.0500</td>\n",
              "      <td>NaN</td>\n",
              "      <td>S</td>\n",
              "      <td>3.0</td>\n",
              "    </tr>\n",
              "    <tr>\n",
              "      <th>...</th>\n",
              "      <td>...</td>\n",
              "      <td>...</td>\n",
              "      <td>...</td>\n",
              "      <td>...</td>\n",
              "      <td>...</td>\n",
              "      <td>...</td>\n",
              "      <td>...</td>\n",
              "      <td>...</td>\n",
              "      <td>...</td>\n",
              "      <td>...</td>\n",
              "      <td>...</td>\n",
              "      <td>...</td>\n",
              "      <td>...</td>\n",
              "    </tr>\n",
              "    <tr>\n",
              "      <th>886</th>\n",
              "      <td>887</td>\n",
              "      <td>0</td>\n",
              "      <td>2</td>\n",
              "      <td>Montvila, Rev. Juozas</td>\n",
              "      <td>male</td>\n",
              "      <td>27.0</td>\n",
              "      <td>0</td>\n",
              "      <td>0</td>\n",
              "      <td>211536</td>\n",
              "      <td>13.0000</td>\n",
              "      <td>NaN</td>\n",
              "      <td>S</td>\n",
              "      <td>2.0</td>\n",
              "    </tr>\n",
              "    <tr>\n",
              "      <th>887</th>\n",
              "      <td>888</td>\n",
              "      <td>1</td>\n",
              "      <td>1</td>\n",
              "      <td>Graham, Miss. Margaret Edith</td>\n",
              "      <td>female</td>\n",
              "      <td>19.0</td>\n",
              "      <td>0</td>\n",
              "      <td>0</td>\n",
              "      <td>112053</td>\n",
              "      <td>30.0000</td>\n",
              "      <td>B42</td>\n",
              "      <td>S</td>\n",
              "      <td>1.0</td>\n",
              "    </tr>\n",
              "    <tr>\n",
              "      <th>888</th>\n",
              "      <td>889</td>\n",
              "      <td>0</td>\n",
              "      <td>3</td>\n",
              "      <td>Johnston, Miss. Catherine Helen \"Carrie\"</td>\n",
              "      <td>female</td>\n",
              "      <td>28.0</td>\n",
              "      <td>1</td>\n",
              "      <td>2</td>\n",
              "      <td>W./C. 6607</td>\n",
              "      <td>23.4500</td>\n",
              "      <td>NaN</td>\n",
              "      <td>S</td>\n",
              "      <td>3.0</td>\n",
              "    </tr>\n",
              "    <tr>\n",
              "      <th>889</th>\n",
              "      <td>890</td>\n",
              "      <td>1</td>\n",
              "      <td>1</td>\n",
              "      <td>Behr, Mr. Karl Howell</td>\n",
              "      <td>male</td>\n",
              "      <td>26.0</td>\n",
              "      <td>0</td>\n",
              "      <td>0</td>\n",
              "      <td>111369</td>\n",
              "      <td>30.0000</td>\n",
              "      <td>C148</td>\n",
              "      <td>C</td>\n",
              "      <td>1.0</td>\n",
              "    </tr>\n",
              "    <tr>\n",
              "      <th>890</th>\n",
              "      <td>891</td>\n",
              "      <td>0</td>\n",
              "      <td>3</td>\n",
              "      <td>Dooley, Mr. Patrick</td>\n",
              "      <td>male</td>\n",
              "      <td>32.0</td>\n",
              "      <td>0</td>\n",
              "      <td>0</td>\n",
              "      <td>370376</td>\n",
              "      <td>7.7500</td>\n",
              "      <td>NaN</td>\n",
              "      <td>Q</td>\n",
              "      <td>3.0</td>\n",
              "    </tr>\n",
              "  </tbody>\n",
              "</table>\n",
              "<p>891 rows × 13 columns</p>\n",
              "</div>"
            ],
            "text/plain": [
              "     PassengerId  Survived  Pclass  ... Cabin Embarked  Age_cat\n",
              "0              1         0       3  ...   NaN        S      3.0\n",
              "1              2         1       1  ...   C85        C      1.0\n",
              "2              3         1       3  ...   NaN        S      3.0\n",
              "3              4         1       1  ...  C123        S      1.0\n",
              "4              5         0       3  ...   NaN        S      3.0\n",
              "..           ...       ...     ...  ...   ...      ...      ...\n",
              "886          887         0       2  ...   NaN        S      2.0\n",
              "887          888         1       1  ...   B42        S      1.0\n",
              "888          889         0       3  ...   NaN        S      3.0\n",
              "889          890         1       1  ...  C148        C      1.0\n",
              "890          891         0       3  ...   NaN        Q      3.0\n",
              "\n",
              "[891 rows x 13 columns]"
            ]
          },
          "metadata": {
            "tags": []
          },
          "execution_count": 380
        }
      ]
    },
    {
      "cell_type": "markdown",
      "metadata": {
        "id": "EPBK4gEpoAvF"
      },
      "source": [
        "**Q** Vilket sätt är att föredra?\n",
        "(HINT! kontrollera de vanliga mätvärdena du får med `.describe()` för ert dataset innan och efter ni ersätter nullvärden, dessa bör vara ungefär samma före som efter ex. median/medel/max/min)"
      ]
    },
    {
      "cell_type": "code",
      "metadata": {
        "colab": {
          "base_uri": "https://localhost:8080/",
          "height": 286
        },
        "id": "R1OyuNEvTz79",
        "outputId": "3356a2a0-3957-4f89-c413-56893959126a"
      },
      "source": [
        "display(train.describe())\r\n"
      ],
      "execution_count": 381,
      "outputs": [
        {
          "output_type": "display_data",
          "data": {
            "text/html": [
              "<div>\n",
              "<style scoped>\n",
              "    .dataframe tbody tr th:only-of-type {\n",
              "        vertical-align: middle;\n",
              "    }\n",
              "\n",
              "    .dataframe tbody tr th {\n",
              "        vertical-align: top;\n",
              "    }\n",
              "\n",
              "    .dataframe thead th {\n",
              "        text-align: right;\n",
              "    }\n",
              "</style>\n",
              "<table border=\"1\" class=\"dataframe\">\n",
              "  <thead>\n",
              "    <tr style=\"text-align: right;\">\n",
              "      <th></th>\n",
              "      <th>PassengerId</th>\n",
              "      <th>Survived</th>\n",
              "      <th>Pclass</th>\n",
              "      <th>Age</th>\n",
              "      <th>SibSp</th>\n",
              "      <th>Parch</th>\n",
              "      <th>Fare</th>\n",
              "      <th>Age_cat</th>\n",
              "    </tr>\n",
              "  </thead>\n",
              "  <tbody>\n",
              "    <tr>\n",
              "      <th>count</th>\n",
              "      <td>891.000000</td>\n",
              "      <td>891.000000</td>\n",
              "      <td>891.000000</td>\n",
              "      <td>891.000000</td>\n",
              "      <td>891.000000</td>\n",
              "      <td>891.000000</td>\n",
              "      <td>891.000000</td>\n",
              "      <td>891.000000</td>\n",
              "    </tr>\n",
              "    <tr>\n",
              "      <th>mean</th>\n",
              "      <td>446.000000</td>\n",
              "      <td>0.383838</td>\n",
              "      <td>2.308642</td>\n",
              "      <td>29.361582</td>\n",
              "      <td>0.523008</td>\n",
              "      <td>0.381594</td>\n",
              "      <td>32.204208</td>\n",
              "      <td>2.308642</td>\n",
              "    </tr>\n",
              "    <tr>\n",
              "      <th>std</th>\n",
              "      <td>257.353842</td>\n",
              "      <td>0.486592</td>\n",
              "      <td>0.836071</td>\n",
              "      <td>13.019697</td>\n",
              "      <td>1.102743</td>\n",
              "      <td>0.806057</td>\n",
              "      <td>49.693429</td>\n",
              "      <td>0.836071</td>\n",
              "    </tr>\n",
              "    <tr>\n",
              "      <th>min</th>\n",
              "      <td>1.000000</td>\n",
              "      <td>0.000000</td>\n",
              "      <td>1.000000</td>\n",
              "      <td>0.420000</td>\n",
              "      <td>0.000000</td>\n",
              "      <td>0.000000</td>\n",
              "      <td>0.000000</td>\n",
              "      <td>1.000000</td>\n",
              "    </tr>\n",
              "    <tr>\n",
              "      <th>25%</th>\n",
              "      <td>223.500000</td>\n",
              "      <td>0.000000</td>\n",
              "      <td>2.000000</td>\n",
              "      <td>22.000000</td>\n",
              "      <td>0.000000</td>\n",
              "      <td>0.000000</td>\n",
              "      <td>7.910400</td>\n",
              "      <td>2.000000</td>\n",
              "    </tr>\n",
              "    <tr>\n",
              "      <th>50%</th>\n",
              "      <td>446.000000</td>\n",
              "      <td>0.000000</td>\n",
              "      <td>3.000000</td>\n",
              "      <td>28.000000</td>\n",
              "      <td>0.000000</td>\n",
              "      <td>0.000000</td>\n",
              "      <td>14.454200</td>\n",
              "      <td>3.000000</td>\n",
              "    </tr>\n",
              "    <tr>\n",
              "      <th>75%</th>\n",
              "      <td>668.500000</td>\n",
              "      <td>1.000000</td>\n",
              "      <td>3.000000</td>\n",
              "      <td>35.000000</td>\n",
              "      <td>1.000000</td>\n",
              "      <td>0.000000</td>\n",
              "      <td>31.000000</td>\n",
              "      <td>3.000000</td>\n",
              "    </tr>\n",
              "    <tr>\n",
              "      <th>max</th>\n",
              "      <td>891.000000</td>\n",
              "      <td>1.000000</td>\n",
              "      <td>3.000000</td>\n",
              "      <td>80.000000</td>\n",
              "      <td>8.000000</td>\n",
              "      <td>6.000000</td>\n",
              "      <td>512.329200</td>\n",
              "      <td>3.000000</td>\n",
              "    </tr>\n",
              "  </tbody>\n",
              "</table>\n",
              "</div>"
            ],
            "text/plain": [
              "       PassengerId    Survived      Pclass  ...       Parch        Fare     Age_cat\n",
              "count   891.000000  891.000000  891.000000  ...  891.000000  891.000000  891.000000\n",
              "mean    446.000000    0.383838    2.308642  ...    0.381594   32.204208    2.308642\n",
              "std     257.353842    0.486592    0.836071  ...    0.806057   49.693429    0.836071\n",
              "min       1.000000    0.000000    1.000000  ...    0.000000    0.000000    1.000000\n",
              "25%     223.500000    0.000000    2.000000  ...    0.000000    7.910400    2.000000\n",
              "50%     446.000000    0.000000    3.000000  ...    0.000000   14.454200    3.000000\n",
              "75%     668.500000    1.000000    3.000000  ...    0.000000   31.000000    3.000000\n",
              "max     891.000000    1.000000    3.000000  ...    6.000000  512.329200    3.000000\n",
              "\n",
              "[8 rows x 8 columns]"
            ]
          },
          "metadata": {
            "tags": []
          }
        }
      ]
    },
    {
      "cell_type": "code",
      "metadata": {
        "colab": {
          "base_uri": "https://localhost:8080/",
          "height": 286
        },
        "id": "tQpMRaY7L5pk",
        "outputId": "0a43a4d4-6f39-408a-f8c2-2e472b99a6ea"
      },
      "source": [
        "display(test.describe())\r\n"
      ],
      "execution_count": 382,
      "outputs": [
        {
          "output_type": "display_data",
          "data": {
            "text/html": [
              "<div>\n",
              "<style scoped>\n",
              "    .dataframe tbody tr th:only-of-type {\n",
              "        vertical-align: middle;\n",
              "    }\n",
              "\n",
              "    .dataframe tbody tr th {\n",
              "        vertical-align: top;\n",
              "    }\n",
              "\n",
              "    .dataframe thead th {\n",
              "        text-align: right;\n",
              "    }\n",
              "</style>\n",
              "<table border=\"1\" class=\"dataframe\">\n",
              "  <thead>\n",
              "    <tr style=\"text-align: right;\">\n",
              "      <th></th>\n",
              "      <th>PassengerId</th>\n",
              "      <th>Survived</th>\n",
              "      <th>Pclass</th>\n",
              "      <th>Age</th>\n",
              "      <th>SibSp</th>\n",
              "      <th>Parch</th>\n",
              "      <th>Fare</th>\n",
              "    </tr>\n",
              "  </thead>\n",
              "  <tbody>\n",
              "    <tr>\n",
              "      <th>count</th>\n",
              "      <td>891.000000</td>\n",
              "      <td>891.000000</td>\n",
              "      <td>891.000000</td>\n",
              "      <td>714.000000</td>\n",
              "      <td>891.000000</td>\n",
              "      <td>891.000000</td>\n",
              "      <td>891.000000</td>\n",
              "    </tr>\n",
              "    <tr>\n",
              "      <th>mean</th>\n",
              "      <td>446.000000</td>\n",
              "      <td>0.383838</td>\n",
              "      <td>2.308642</td>\n",
              "      <td>29.699118</td>\n",
              "      <td>0.523008</td>\n",
              "      <td>0.381594</td>\n",
              "      <td>32.204208</td>\n",
              "    </tr>\n",
              "    <tr>\n",
              "      <th>std</th>\n",
              "      <td>257.353842</td>\n",
              "      <td>0.486592</td>\n",
              "      <td>0.836071</td>\n",
              "      <td>14.526497</td>\n",
              "      <td>1.102743</td>\n",
              "      <td>0.806057</td>\n",
              "      <td>49.693429</td>\n",
              "    </tr>\n",
              "    <tr>\n",
              "      <th>min</th>\n",
              "      <td>1.000000</td>\n",
              "      <td>0.000000</td>\n",
              "      <td>1.000000</td>\n",
              "      <td>0.420000</td>\n",
              "      <td>0.000000</td>\n",
              "      <td>0.000000</td>\n",
              "      <td>0.000000</td>\n",
              "    </tr>\n",
              "    <tr>\n",
              "      <th>25%</th>\n",
              "      <td>223.500000</td>\n",
              "      <td>0.000000</td>\n",
              "      <td>2.000000</td>\n",
              "      <td>20.125000</td>\n",
              "      <td>0.000000</td>\n",
              "      <td>0.000000</td>\n",
              "      <td>7.910400</td>\n",
              "    </tr>\n",
              "    <tr>\n",
              "      <th>50%</th>\n",
              "      <td>446.000000</td>\n",
              "      <td>0.000000</td>\n",
              "      <td>3.000000</td>\n",
              "      <td>28.000000</td>\n",
              "      <td>0.000000</td>\n",
              "      <td>0.000000</td>\n",
              "      <td>14.454200</td>\n",
              "    </tr>\n",
              "    <tr>\n",
              "      <th>75%</th>\n",
              "      <td>668.500000</td>\n",
              "      <td>1.000000</td>\n",
              "      <td>3.000000</td>\n",
              "      <td>38.000000</td>\n",
              "      <td>1.000000</td>\n",
              "      <td>0.000000</td>\n",
              "      <td>31.000000</td>\n",
              "    </tr>\n",
              "    <tr>\n",
              "      <th>max</th>\n",
              "      <td>891.000000</td>\n",
              "      <td>1.000000</td>\n",
              "      <td>3.000000</td>\n",
              "      <td>80.000000</td>\n",
              "      <td>8.000000</td>\n",
              "      <td>6.000000</td>\n",
              "      <td>512.329200</td>\n",
              "    </tr>\n",
              "  </tbody>\n",
              "</table>\n",
              "</div>"
            ],
            "text/plain": [
              "       PassengerId    Survived      Pclass  ...       SibSp       Parch        Fare\n",
              "count   891.000000  891.000000  891.000000  ...  891.000000  891.000000  891.000000\n",
              "mean    446.000000    0.383838    2.308642  ...    0.523008    0.381594   32.204208\n",
              "std     257.353842    0.486592    0.836071  ...    1.102743    0.806057   49.693429\n",
              "min       1.000000    0.000000    1.000000  ...    0.000000    0.000000    0.000000\n",
              "25%     223.500000    0.000000    2.000000  ...    0.000000    0.000000    7.910400\n",
              "50%     446.000000    0.000000    3.000000  ...    0.000000    0.000000   14.454200\n",
              "75%     668.500000    1.000000    3.000000  ...    1.000000    0.000000   31.000000\n",
              "max     891.000000    1.000000    3.000000  ...    8.000000    6.000000  512.329200\n",
              "\n",
              "[8 rows x 7 columns]"
            ]
          },
          "metadata": {
            "tags": []
          }
        }
      ]
    },
    {
      "cell_type": "markdown",
      "metadata": {
        "id": "5BakZkPaWxs5"
      },
      "source": [
        "It is more preferable to adjust the age based on class because it gives a more accurate result if a correlation exists."
      ]
    },
    {
      "cell_type": "markdown",
      "metadata": {
        "id": "RBqNawWjoAvF"
      },
      "source": [
        "**QC** Det finns en till kolumn med nullvärden \n",
        "\n",
        ">a.Vad är lämpligt att göra med den?\n",
        ">\n",
        ">b.Gör det :)"
      ]
    },
    {
      "cell_type": "markdown",
      "metadata": {
        "id": "vwyVeXy0YFdP"
      },
      "source": [
        "Majority of the data is missing completely, so for that the Cabin column might be ignored \r\n",
        "\r\n",
        "PS: There might be more advinced methods but i don't know them yet (based on code)"
      ]
    },
    {
      "cell_type": "code",
      "metadata": {
        "id": "EYXtWlu88MQt",
        "colab": {
          "base_uri": "https://localhost:8080/",
          "height": 404
        },
        "outputId": "6d64ee5d-1b3d-42d5-899c-1411ce692ee7"
      },
      "source": [
        "train.drop(columns=[\"Cabin\"])\r\n"
      ],
      "execution_count": 383,
      "outputs": [
        {
          "output_type": "execute_result",
          "data": {
            "text/html": [
              "<div>\n",
              "<style scoped>\n",
              "    .dataframe tbody tr th:only-of-type {\n",
              "        vertical-align: middle;\n",
              "    }\n",
              "\n",
              "    .dataframe tbody tr th {\n",
              "        vertical-align: top;\n",
              "    }\n",
              "\n",
              "    .dataframe thead th {\n",
              "        text-align: right;\n",
              "    }\n",
              "</style>\n",
              "<table border=\"1\" class=\"dataframe\">\n",
              "  <thead>\n",
              "    <tr style=\"text-align: right;\">\n",
              "      <th></th>\n",
              "      <th>PassengerId</th>\n",
              "      <th>Survived</th>\n",
              "      <th>Pclass</th>\n",
              "      <th>Name</th>\n",
              "      <th>Sex</th>\n",
              "      <th>Age</th>\n",
              "      <th>SibSp</th>\n",
              "      <th>Parch</th>\n",
              "      <th>Ticket</th>\n",
              "      <th>Fare</th>\n",
              "      <th>Embarked</th>\n",
              "      <th>Age_cat</th>\n",
              "    </tr>\n",
              "  </thead>\n",
              "  <tbody>\n",
              "    <tr>\n",
              "      <th>0</th>\n",
              "      <td>1</td>\n",
              "      <td>0</td>\n",
              "      <td>3</td>\n",
              "      <td>Braund, Mr. Owen Harris</td>\n",
              "      <td>male</td>\n",
              "      <td>22.0</td>\n",
              "      <td>1</td>\n",
              "      <td>0</td>\n",
              "      <td>A/5 21171</td>\n",
              "      <td>7.2500</td>\n",
              "      <td>S</td>\n",
              "      <td>3.0</td>\n",
              "    </tr>\n",
              "    <tr>\n",
              "      <th>1</th>\n",
              "      <td>2</td>\n",
              "      <td>1</td>\n",
              "      <td>1</td>\n",
              "      <td>Cumings, Mrs. John Bradley (Florence Briggs Th...</td>\n",
              "      <td>female</td>\n",
              "      <td>38.0</td>\n",
              "      <td>1</td>\n",
              "      <td>0</td>\n",
              "      <td>PC 17599</td>\n",
              "      <td>71.2833</td>\n",
              "      <td>C</td>\n",
              "      <td>1.0</td>\n",
              "    </tr>\n",
              "    <tr>\n",
              "      <th>2</th>\n",
              "      <td>3</td>\n",
              "      <td>1</td>\n",
              "      <td>3</td>\n",
              "      <td>Heikkinen, Miss. Laina</td>\n",
              "      <td>female</td>\n",
              "      <td>26.0</td>\n",
              "      <td>0</td>\n",
              "      <td>0</td>\n",
              "      <td>STON/O2. 3101282</td>\n",
              "      <td>7.9250</td>\n",
              "      <td>S</td>\n",
              "      <td>3.0</td>\n",
              "    </tr>\n",
              "    <tr>\n",
              "      <th>3</th>\n",
              "      <td>4</td>\n",
              "      <td>1</td>\n",
              "      <td>1</td>\n",
              "      <td>Futrelle, Mrs. Jacques Heath (Lily May Peel)</td>\n",
              "      <td>female</td>\n",
              "      <td>35.0</td>\n",
              "      <td>1</td>\n",
              "      <td>0</td>\n",
              "      <td>113803</td>\n",
              "      <td>53.1000</td>\n",
              "      <td>S</td>\n",
              "      <td>1.0</td>\n",
              "    </tr>\n",
              "    <tr>\n",
              "      <th>4</th>\n",
              "      <td>5</td>\n",
              "      <td>0</td>\n",
              "      <td>3</td>\n",
              "      <td>Allen, Mr. William Henry</td>\n",
              "      <td>male</td>\n",
              "      <td>35.0</td>\n",
              "      <td>0</td>\n",
              "      <td>0</td>\n",
              "      <td>373450</td>\n",
              "      <td>8.0500</td>\n",
              "      <td>S</td>\n",
              "      <td>3.0</td>\n",
              "    </tr>\n",
              "    <tr>\n",
              "      <th>...</th>\n",
              "      <td>...</td>\n",
              "      <td>...</td>\n",
              "      <td>...</td>\n",
              "      <td>...</td>\n",
              "      <td>...</td>\n",
              "      <td>...</td>\n",
              "      <td>...</td>\n",
              "      <td>...</td>\n",
              "      <td>...</td>\n",
              "      <td>...</td>\n",
              "      <td>...</td>\n",
              "      <td>...</td>\n",
              "    </tr>\n",
              "    <tr>\n",
              "      <th>886</th>\n",
              "      <td>887</td>\n",
              "      <td>0</td>\n",
              "      <td>2</td>\n",
              "      <td>Montvila, Rev. Juozas</td>\n",
              "      <td>male</td>\n",
              "      <td>27.0</td>\n",
              "      <td>0</td>\n",
              "      <td>0</td>\n",
              "      <td>211536</td>\n",
              "      <td>13.0000</td>\n",
              "      <td>S</td>\n",
              "      <td>2.0</td>\n",
              "    </tr>\n",
              "    <tr>\n",
              "      <th>887</th>\n",
              "      <td>888</td>\n",
              "      <td>1</td>\n",
              "      <td>1</td>\n",
              "      <td>Graham, Miss. Margaret Edith</td>\n",
              "      <td>female</td>\n",
              "      <td>19.0</td>\n",
              "      <td>0</td>\n",
              "      <td>0</td>\n",
              "      <td>112053</td>\n",
              "      <td>30.0000</td>\n",
              "      <td>S</td>\n",
              "      <td>1.0</td>\n",
              "    </tr>\n",
              "    <tr>\n",
              "      <th>888</th>\n",
              "      <td>889</td>\n",
              "      <td>0</td>\n",
              "      <td>3</td>\n",
              "      <td>Johnston, Miss. Catherine Helen \"Carrie\"</td>\n",
              "      <td>female</td>\n",
              "      <td>28.0</td>\n",
              "      <td>1</td>\n",
              "      <td>2</td>\n",
              "      <td>W./C. 6607</td>\n",
              "      <td>23.4500</td>\n",
              "      <td>S</td>\n",
              "      <td>3.0</td>\n",
              "    </tr>\n",
              "    <tr>\n",
              "      <th>889</th>\n",
              "      <td>890</td>\n",
              "      <td>1</td>\n",
              "      <td>1</td>\n",
              "      <td>Behr, Mr. Karl Howell</td>\n",
              "      <td>male</td>\n",
              "      <td>26.0</td>\n",
              "      <td>0</td>\n",
              "      <td>0</td>\n",
              "      <td>111369</td>\n",
              "      <td>30.0000</td>\n",
              "      <td>C</td>\n",
              "      <td>1.0</td>\n",
              "    </tr>\n",
              "    <tr>\n",
              "      <th>890</th>\n",
              "      <td>891</td>\n",
              "      <td>0</td>\n",
              "      <td>3</td>\n",
              "      <td>Dooley, Mr. Patrick</td>\n",
              "      <td>male</td>\n",
              "      <td>32.0</td>\n",
              "      <td>0</td>\n",
              "      <td>0</td>\n",
              "      <td>370376</td>\n",
              "      <td>7.7500</td>\n",
              "      <td>Q</td>\n",
              "      <td>3.0</td>\n",
              "    </tr>\n",
              "  </tbody>\n",
              "</table>\n",
              "<p>891 rows × 12 columns</p>\n",
              "</div>"
            ],
            "text/plain": [
              "     PassengerId  Survived  Pclass  ...     Fare Embarked  Age_cat\n",
              "0              1         0       3  ...   7.2500        S      3.0\n",
              "1              2         1       1  ...  71.2833        C      1.0\n",
              "2              3         1       3  ...   7.9250        S      3.0\n",
              "3              4         1       1  ...  53.1000        S      1.0\n",
              "4              5         0       3  ...   8.0500        S      3.0\n",
              "..           ...       ...     ...  ...      ...      ...      ...\n",
              "886          887         0       2  ...  13.0000        S      2.0\n",
              "887          888         1       1  ...  30.0000        S      1.0\n",
              "888          889         0       3  ...  23.4500        S      3.0\n",
              "889          890         1       1  ...  30.0000        C      1.0\n",
              "890          891         0       3  ...   7.7500        Q      3.0\n",
              "\n",
              "[891 rows x 12 columns]"
            ]
          },
          "metadata": {
            "tags": []
          },
          "execution_count": 383
        }
      ]
    },
    {
      "cell_type": "markdown",
      "metadata": {
        "id": "0tQ1QZl4oAvG"
      },
      "source": [
        "**QC** Analys av varaibler\n",
        "\n",
        "Nu har vi städat vårt dataset är det dags att förbereda det för analys. \n",
        "\n",
        ">a. Vilka variabler är överhuvudtaget inte intressanta för huruvida man lever eller dör? Kontrollera i vår korrelationsanalys.(OBS! Alla kolumner finns inte med eftersom det inte går att beräkna korrelation på vissa)\n",
        ">\n",
        ">b.När vi använder logistisk regression vill vi inte att de oberoende variablerna ska vara för korrelerade (beroende) av varandra. Det påverkar resultatet negativt. Därför tittar vi igen på vår korrelationsanalys. För att vi ska tycka korrelationen är för stark bör gränsvärdet ligga runt 0,4, rensa bland era variabler så att det inte finns några oberoende variabler som har en korrelation starkare än 0,4 till någon av de andra oberoende variablerna.\n",
        ">\n"
      ]
    },
    {
      "cell_type": "code",
      "metadata": {
        "id": "a96F3hoUZBQn",
        "colab": {
          "base_uri": "https://localhost:8080/",
          "height": 404
        },
        "outputId": "33e96d7a-369d-4f9e-fc51-77c8b7f7c949"
      },
      "source": [
        "#a\r\n",
        "#PassengerId\", \"Name\", \"Ticket\"\r\n",
        "train.drop(columns=[\"PassengerId\", \"Name\", \"Ticket\"])"
      ],
      "execution_count": 411,
      "outputs": [
        {
          "output_type": "execute_result",
          "data": {
            "text/html": [
              "<div>\n",
              "<style scoped>\n",
              "    .dataframe tbody tr th:only-of-type {\n",
              "        vertical-align: middle;\n",
              "    }\n",
              "\n",
              "    .dataframe tbody tr th {\n",
              "        vertical-align: top;\n",
              "    }\n",
              "\n",
              "    .dataframe thead th {\n",
              "        text-align: right;\n",
              "    }\n",
              "</style>\n",
              "<table border=\"1\" class=\"dataframe\">\n",
              "  <thead>\n",
              "    <tr style=\"text-align: right;\">\n",
              "      <th></th>\n",
              "      <th>Survived</th>\n",
              "      <th>Pclass</th>\n",
              "      <th>Sex</th>\n",
              "      <th>Age</th>\n",
              "      <th>SibSp</th>\n",
              "      <th>Parch</th>\n",
              "      <th>Fare</th>\n",
              "      <th>Cabin</th>\n",
              "      <th>Embarked</th>\n",
              "      <th>Age_cat</th>\n",
              "      <th>harbor</th>\n",
              "      <th>Gender</th>\n",
              "    </tr>\n",
              "  </thead>\n",
              "  <tbody>\n",
              "    <tr>\n",
              "      <th>0</th>\n",
              "      <td>0</td>\n",
              "      <td>3</td>\n",
              "      <td>male</td>\n",
              "      <td>22.0</td>\n",
              "      <td>1</td>\n",
              "      <td>0</td>\n",
              "      <td>7.2500</td>\n",
              "      <td>NaN</td>\n",
              "      <td>S</td>\n",
              "      <td>3.0</td>\n",
              "      <td>0</td>\n",
              "      <td>0</td>\n",
              "    </tr>\n",
              "    <tr>\n",
              "      <th>1</th>\n",
              "      <td>1</td>\n",
              "      <td>1</td>\n",
              "      <td>female</td>\n",
              "      <td>38.0</td>\n",
              "      <td>1</td>\n",
              "      <td>0</td>\n",
              "      <td>71.2833</td>\n",
              "      <td>C85</td>\n",
              "      <td>C</td>\n",
              "      <td>1.0</td>\n",
              "      <td>1</td>\n",
              "      <td>1</td>\n",
              "    </tr>\n",
              "    <tr>\n",
              "      <th>2</th>\n",
              "      <td>1</td>\n",
              "      <td>3</td>\n",
              "      <td>female</td>\n",
              "      <td>26.0</td>\n",
              "      <td>0</td>\n",
              "      <td>0</td>\n",
              "      <td>7.9250</td>\n",
              "      <td>NaN</td>\n",
              "      <td>S</td>\n",
              "      <td>3.0</td>\n",
              "      <td>0</td>\n",
              "      <td>1</td>\n",
              "    </tr>\n",
              "    <tr>\n",
              "      <th>3</th>\n",
              "      <td>1</td>\n",
              "      <td>1</td>\n",
              "      <td>female</td>\n",
              "      <td>35.0</td>\n",
              "      <td>1</td>\n",
              "      <td>0</td>\n",
              "      <td>53.1000</td>\n",
              "      <td>C123</td>\n",
              "      <td>S</td>\n",
              "      <td>1.0</td>\n",
              "      <td>0</td>\n",
              "      <td>1</td>\n",
              "    </tr>\n",
              "    <tr>\n",
              "      <th>4</th>\n",
              "      <td>0</td>\n",
              "      <td>3</td>\n",
              "      <td>male</td>\n",
              "      <td>35.0</td>\n",
              "      <td>0</td>\n",
              "      <td>0</td>\n",
              "      <td>8.0500</td>\n",
              "      <td>NaN</td>\n",
              "      <td>S</td>\n",
              "      <td>3.0</td>\n",
              "      <td>0</td>\n",
              "      <td>0</td>\n",
              "    </tr>\n",
              "    <tr>\n",
              "      <th>...</th>\n",
              "      <td>...</td>\n",
              "      <td>...</td>\n",
              "      <td>...</td>\n",
              "      <td>...</td>\n",
              "      <td>...</td>\n",
              "      <td>...</td>\n",
              "      <td>...</td>\n",
              "      <td>...</td>\n",
              "      <td>...</td>\n",
              "      <td>...</td>\n",
              "      <td>...</td>\n",
              "      <td>...</td>\n",
              "    </tr>\n",
              "    <tr>\n",
              "      <th>886</th>\n",
              "      <td>0</td>\n",
              "      <td>2</td>\n",
              "      <td>male</td>\n",
              "      <td>27.0</td>\n",
              "      <td>0</td>\n",
              "      <td>0</td>\n",
              "      <td>13.0000</td>\n",
              "      <td>NaN</td>\n",
              "      <td>S</td>\n",
              "      <td>2.0</td>\n",
              "      <td>0</td>\n",
              "      <td>0</td>\n",
              "    </tr>\n",
              "    <tr>\n",
              "      <th>887</th>\n",
              "      <td>1</td>\n",
              "      <td>1</td>\n",
              "      <td>female</td>\n",
              "      <td>19.0</td>\n",
              "      <td>0</td>\n",
              "      <td>0</td>\n",
              "      <td>30.0000</td>\n",
              "      <td>B42</td>\n",
              "      <td>S</td>\n",
              "      <td>1.0</td>\n",
              "      <td>0</td>\n",
              "      <td>1</td>\n",
              "    </tr>\n",
              "    <tr>\n",
              "      <th>888</th>\n",
              "      <td>0</td>\n",
              "      <td>3</td>\n",
              "      <td>female</td>\n",
              "      <td>28.0</td>\n",
              "      <td>1</td>\n",
              "      <td>2</td>\n",
              "      <td>23.4500</td>\n",
              "      <td>NaN</td>\n",
              "      <td>S</td>\n",
              "      <td>3.0</td>\n",
              "      <td>0</td>\n",
              "      <td>1</td>\n",
              "    </tr>\n",
              "    <tr>\n",
              "      <th>889</th>\n",
              "      <td>1</td>\n",
              "      <td>1</td>\n",
              "      <td>male</td>\n",
              "      <td>26.0</td>\n",
              "      <td>0</td>\n",
              "      <td>0</td>\n",
              "      <td>30.0000</td>\n",
              "      <td>C148</td>\n",
              "      <td>C</td>\n",
              "      <td>1.0</td>\n",
              "      <td>1</td>\n",
              "      <td>0</td>\n",
              "    </tr>\n",
              "    <tr>\n",
              "      <th>890</th>\n",
              "      <td>0</td>\n",
              "      <td>3</td>\n",
              "      <td>male</td>\n",
              "      <td>32.0</td>\n",
              "      <td>0</td>\n",
              "      <td>0</td>\n",
              "      <td>7.7500</td>\n",
              "      <td>NaN</td>\n",
              "      <td>Q</td>\n",
              "      <td>3.0</td>\n",
              "      <td>2</td>\n",
              "      <td>0</td>\n",
              "    </tr>\n",
              "  </tbody>\n",
              "</table>\n",
              "<p>891 rows × 12 columns</p>\n",
              "</div>"
            ],
            "text/plain": [
              "     Survived  Pclass     Sex   Age  ...  Embarked  Age_cat  harbor Gender\n",
              "0           0       3    male  22.0  ...         S      3.0       0      0\n",
              "1           1       1  female  38.0  ...         C      1.0       1      1\n",
              "2           1       3  female  26.0  ...         S      3.0       0      1\n",
              "3           1       1  female  35.0  ...         S      1.0       0      1\n",
              "4           0       3    male  35.0  ...         S      3.0       0      0\n",
              "..        ...     ...     ...   ...  ...       ...      ...     ...    ...\n",
              "886         0       2    male  27.0  ...         S      2.0       0      0\n",
              "887         1       1  female  19.0  ...         S      1.0       0      1\n",
              "888         0       3  female  28.0  ...         S      3.0       0      1\n",
              "889         1       1    male  26.0  ...         C      1.0       1      0\n",
              "890         0       3    male  32.0  ...         Q      3.0       2      0\n",
              "\n",
              "[891 rows x 12 columns]"
            ]
          },
          "metadata": {
            "tags": []
          },
          "execution_count": 411
        }
      ]
    },
    {
      "cell_type": "code",
      "metadata": {
        "id": "EL7ENMF1aOBX",
        "colab": {
          "base_uri": "https://localhost:8080/",
          "height": 513
        },
        "outputId": "dc72b5da-b336-4538-ba03-a8abc4a825c3"
      },
      "source": [
        "\r\n",
        "corr_matrix = df.corr().abs()\r\n",
        "filter_df = corr_matrix[(corr_matrix >= .4) & (corr_matrix != 1)]\r\n",
        "plt.figure(figsize=(30,10))\r\n",
        "sb.heatmap(filter_df, annot=True, cmap=\"Reds\")\r\n",
        "plt.show()\r\n",
        "\r\n",
        "\r\n",
        "# Create correlation matrix\r\n",
        "\r\n",
        "\r\n",
        "# Select upper triangle of correlation matrix\r\n",
        "upper = corr_matrix.where(np.triu(np.ones(corr_matrix.shape), k=1).astype(np.bool))\r\n",
        "\r\n",
        "# Find index of feature columns with correlation greater than 0.95\r\n",
        "to_drop = [column for column in upper.columns if any(upper[column] >= 0.4)]\r\n",
        "\r\n",
        "\r\n",
        "# Drop features \r\n",
        "test_after_drop = df.drop(df[to_drop], axis=1)\r\n",
        "\r\n",
        "\r\n",
        "\r\n"
      ],
      "execution_count": 384,
      "outputs": [
        {
          "output_type": "display_data",
          "data": {
            "image/png": "[encoded data removed]",
            "text/plain": [
              "<Figure size 2160x720 with 2 Axes>"
            ]
          },
          "metadata": {
            "tags": []
          }
        }
      ]
    },
    {
      "cell_type": "code",
      "metadata": {
        "colab": {
          "base_uri": "https://localhost:8080/",
          "height": 568
        },
        "id": "G0FKQvWJw4i8",
        "outputId": "c54f2f48-40eb-4e6d-b3f7-657d9eb38032"
      },
      "source": [
        "#check\r\n",
        "corr_matrix = test_after_drop.corr().abs()\r\n",
        "filter_df = corr_matrix[(corr_matrix >= .4) & (corr_matrix != 1)]\r\n",
        "plt.figure(figsize=(30,10))\r\n",
        "sb.heatmap(filter_df, annot=True, cmap=\"Reds\")\r\n",
        "plt.show()"
      ],
      "execution_count": 385,
      "outputs": [
        {
          "output_type": "stream",
          "text": [
            "/usr/local/lib/python3.7/dist-packages/seaborn/matrix.py:194: RuntimeWarning: All-NaN slice encountered\n",
            "  vmin = np.nanmin(calc_data)\n",
            "/usr/local/lib/python3.7/dist-packages/seaborn/matrix.py:199: RuntimeWarning: All-NaN slice encountered\n",
            "  vmax = np.nanmax(calc_data)\n"
          ],
          "name": "stderr"
        },
        {
          "output_type": "display_data",
          "data": {
            "image/png": "[encoded data removed]",
            "text/plain": [
              "<Figure size 2160x720 with 2 Axes>"
            ]
          },
          "metadata": {
            "tags": []
          }
        }
      ]
    },
    {
      "cell_type": "markdown",
      "metadata": {
        "id": "34fpopmyoAvG"
      },
      "source": [
        "**QC** Se till att variablerna går att applicera i vald modell.\n",
        "\n",
        "Eftersom vi ska använda logistisk regression måste alla värden vara numeriska, vi behöver alltså ändra våra kategoriska, icke-numeriska variabler till numeriska. Detta görs lämpligen genom ungefär följande kod: `dataframe_without_kategorial_sex = pd.get_dummies(*namnet på ddataframen*, columns=['Sex'], drop_first=True)`\n",
        "\n",
        ">\n",
        ">a. Varför ersätter vi med 0 och 1 istället för 0,1,2,3?\n",
        "  \n",
        ">\n",
        ">b. Ersätt övriga kategoriska kolumner med dummyvariabler. \n",
        ">\n",
        ">"
      ]
    },
    {
      "cell_type": "markdown",
      "metadata": {
        "id": "23BE6AMr-HCn"
      },
      "source": [
        "a. A single binary digit can only represent True (1) or False (0) in boolean logic, that's why"
      ]
    },
    {
      "cell_type": "code",
      "metadata": {
        "id": "Dn9fYvBJ1RTf",
        "colab": {
          "base_uri": "https://localhost:8080/",
          "height": 404
        },
        "outputId": "c30f14a1-4a8b-4de0-ba2a-83ca86ed9646"
      },
      "source": [
        "train[\"harbor\"] = 0\r\n",
        "train.loc[train['Embarked']=='S','harbor']=0\r\n",
        "train.loc[train['Embarked']=='C','harbor']=1\r\n",
        "train.loc[train['Embarked']=='Q','harbor']=2\r\n",
        "\r\n",
        "train\r\n",
        "\r\n"
      ],
      "execution_count": 386,
      "outputs": [
        {
          "output_type": "execute_result",
          "data": {
            "text/html": [
              "<div>\n",
              "<style scoped>\n",
              "    .dataframe tbody tr th:only-of-type {\n",
              "        vertical-align: middle;\n",
              "    }\n",
              "\n",
              "    .dataframe tbody tr th {\n",
              "        vertical-align: top;\n",
              "    }\n",
              "\n",
              "    .dataframe thead th {\n",
              "        text-align: right;\n",
              "    }\n",
              "</style>\n",
              "<table border=\"1\" class=\"dataframe\">\n",
              "  <thead>\n",
              "    <tr style=\"text-align: right;\">\n",
              "      <th></th>\n",
              "      <th>PassengerId</th>\n",
              "      <th>Survived</th>\n",
              "      <th>Pclass</th>\n",
              "      <th>Name</th>\n",
              "      <th>Sex</th>\n",
              "      <th>Age</th>\n",
              "      <th>SibSp</th>\n",
              "      <th>Parch</th>\n",
              "      <th>Ticket</th>\n",
              "      <th>Fare</th>\n",
              "      <th>Cabin</th>\n",
              "      <th>Embarked</th>\n",
              "      <th>Age_cat</th>\n",
              "      <th>harbor</th>\n",
              "    </tr>\n",
              "  </thead>\n",
              "  <tbody>\n",
              "    <tr>\n",
              "      <th>0</th>\n",
              "      <td>1</td>\n",
              "      <td>0</td>\n",
              "      <td>3</td>\n",
              "      <td>Braund, Mr. Owen Harris</td>\n",
              "      <td>male</td>\n",
              "      <td>22.0</td>\n",
              "      <td>1</td>\n",
              "      <td>0</td>\n",
              "      <td>A/5 21171</td>\n",
              "      <td>7.2500</td>\n",
              "      <td>NaN</td>\n",
              "      <td>S</td>\n",
              "      <td>3.0</td>\n",
              "      <td>0</td>\n",
              "    </tr>\n",
              "    <tr>\n",
              "      <th>1</th>\n",
              "      <td>2</td>\n",
              "      <td>1</td>\n",
              "      <td>1</td>\n",
              "      <td>Cumings, Mrs. John Bradley (Florence Briggs Th...</td>\n",
              "      <td>female</td>\n",
              "      <td>38.0</td>\n",
              "      <td>1</td>\n",
              "      <td>0</td>\n",
              "      <td>PC 17599</td>\n",
              "      <td>71.2833</td>\n",
              "      <td>C85</td>\n",
              "      <td>C</td>\n",
              "      <td>1.0</td>\n",
              "      <td>1</td>\n",
              "    </tr>\n",
              "    <tr>\n",
              "      <th>2</th>\n",
              "      <td>3</td>\n",
              "      <td>1</td>\n",
              "      <td>3</td>\n",
              "      <td>Heikkinen, Miss. Laina</td>\n",
              "      <td>female</td>\n",
              "      <td>26.0</td>\n",
              "      <td>0</td>\n",
              "      <td>0</td>\n",
              "      <td>STON/O2. 3101282</td>\n",
              "      <td>7.9250</td>\n",
              "      <td>NaN</td>\n",
              "      <td>S</td>\n",
              "      <td>3.0</td>\n",
              "      <td>0</td>\n",
              "    </tr>\n",
              "    <tr>\n",
              "      <th>3</th>\n",
              "      <td>4</td>\n",
              "      <td>1</td>\n",
              "      <td>1</td>\n",
              "      <td>Futrelle, Mrs. Jacques Heath (Lily May Peel)</td>\n",
              "      <td>female</td>\n",
              "      <td>35.0</td>\n",
              "      <td>1</td>\n",
              "      <td>0</td>\n",
              "      <td>113803</td>\n",
              "      <td>53.1000</td>\n",
              "      <td>C123</td>\n",
              "      <td>S</td>\n",
              "      <td>1.0</td>\n",
              "      <td>0</td>\n",
              "    </tr>\n",
              "    <tr>\n",
              "      <th>4</th>\n",
              "      <td>5</td>\n",
              "      <td>0</td>\n",
              "      <td>3</td>\n",
              "      <td>Allen, Mr. William Henry</td>\n",
              "      <td>male</td>\n",
              "      <td>35.0</td>\n",
              "      <td>0</td>\n",
              "      <td>0</td>\n",
              "      <td>373450</td>\n",
              "      <td>8.0500</td>\n",
              "      <td>NaN</td>\n",
              "      <td>S</td>\n",
              "      <td>3.0</td>\n",
              "      <td>0</td>\n",
              "    </tr>\n",
              "    <tr>\n",
              "      <th>...</th>\n",
              "      <td>...</td>\n",
              "      <td>...</td>\n",
              "      <td>...</td>\n",
              "      <td>...</td>\n",
              "      <td>...</td>\n",
              "      <td>...</td>\n",
              "      <td>...</td>\n",
              "      <td>...</td>\n",
              "      <td>...</td>\n",
              "      <td>...</td>\n",
              "      <td>...</td>\n",
              "      <td>...</td>\n",
              "      <td>...</td>\n",
              "      <td>...</td>\n",
              "    </tr>\n",
              "    <tr>\n",
              "      <th>886</th>\n",
              "      <td>887</td>\n",
              "      <td>0</td>\n",
              "      <td>2</td>\n",
              "      <td>Montvila, Rev. Juozas</td>\n",
              "      <td>male</td>\n",
              "      <td>27.0</td>\n",
              "      <td>0</td>\n",
              "      <td>0</td>\n",
              "      <td>211536</td>\n",
              "      <td>13.0000</td>\n",
              "      <td>NaN</td>\n",
              "      <td>S</td>\n",
              "      <td>2.0</td>\n",
              "      <td>0</td>\n",
              "    </tr>\n",
              "    <tr>\n",
              "      <th>887</th>\n",
              "      <td>888</td>\n",
              "      <td>1</td>\n",
              "      <td>1</td>\n",
              "      <td>Graham, Miss. Margaret Edith</td>\n",
              "      <td>female</td>\n",
              "      <td>19.0</td>\n",
              "      <td>0</td>\n",
              "      <td>0</td>\n",
              "      <td>112053</td>\n",
              "      <td>30.0000</td>\n",
              "      <td>B42</td>\n",
              "      <td>S</td>\n",
              "      <td>1.0</td>\n",
              "      <td>0</td>\n",
              "    </tr>\n",
              "    <tr>\n",
              "      <th>888</th>\n",
              "      <td>889</td>\n",
              "      <td>0</td>\n",
              "      <td>3</td>\n",
              "      <td>Johnston, Miss. Catherine Helen \"Carrie\"</td>\n",
              "      <td>female</td>\n",
              "      <td>28.0</td>\n",
              "      <td>1</td>\n",
              "      <td>2</td>\n",
              "      <td>W./C. 6607</td>\n",
              "      <td>23.4500</td>\n",
              "      <td>NaN</td>\n",
              "      <td>S</td>\n",
              "      <td>3.0</td>\n",
              "      <td>0</td>\n",
              "    </tr>\n",
              "    <tr>\n",
              "      <th>889</th>\n",
              "      <td>890</td>\n",
              "      <td>1</td>\n",
              "      <td>1</td>\n",
              "      <td>Behr, Mr. Karl Howell</td>\n",
              "      <td>male</td>\n",
              "      <td>26.0</td>\n",
              "      <td>0</td>\n",
              "      <td>0</td>\n",
              "      <td>111369</td>\n",
              "      <td>30.0000</td>\n",
              "      <td>C148</td>\n",
              "      <td>C</td>\n",
              "      <td>1.0</td>\n",
              "      <td>1</td>\n",
              "    </tr>\n",
              "    <tr>\n",
              "      <th>890</th>\n",
              "      <td>891</td>\n",
              "      <td>0</td>\n",
              "      <td>3</td>\n",
              "      <td>Dooley, Mr. Patrick</td>\n",
              "      <td>male</td>\n",
              "      <td>32.0</td>\n",
              "      <td>0</td>\n",
              "      <td>0</td>\n",
              "      <td>370376</td>\n",
              "      <td>7.7500</td>\n",
              "      <td>NaN</td>\n",
              "      <td>Q</td>\n",
              "      <td>3.0</td>\n",
              "      <td>2</td>\n",
              "    </tr>\n",
              "  </tbody>\n",
              "</table>\n",
              "<p>891 rows × 14 columns</p>\n",
              "</div>"
            ],
            "text/plain": [
              "     PassengerId  Survived  Pclass  ... Embarked Age_cat  harbor\n",
              "0              1         0       3  ...        S     3.0       0\n",
              "1              2         1       1  ...        C     1.0       1\n",
              "2              3         1       3  ...        S     3.0       0\n",
              "3              4         1       1  ...        S     1.0       0\n",
              "4              5         0       3  ...        S     3.0       0\n",
              "..           ...       ...     ...  ...      ...     ...     ...\n",
              "886          887         0       2  ...        S     2.0       0\n",
              "887          888         1       1  ...        S     1.0       0\n",
              "888          889         0       3  ...        S     3.0       0\n",
              "889          890         1       1  ...        C     1.0       1\n",
              "890          891         0       3  ...        Q     3.0       2\n",
              "\n",
              "[891 rows x 14 columns]"
            ]
          },
          "metadata": {
            "tags": []
          },
          "execution_count": 386
        }
      ]
    },
    {
      "cell_type": "code",
      "metadata": {
        "id": "-6yC5WjGoAvG",
        "colab": {
          "base_uri": "https://localhost:8080/",
          "height": 705
        },
        "outputId": "15a616b3-cf50-4eed-ae3f-774b22a85a2b"
      },
      "source": [
        "#9b: Gör samma sak för övriga kategoriska variabler\n",
        "\n",
        "train[\"Gender\"] = 0\n",
        "\n",
        "\n",
        "\n",
        "train['Gender'] = train.Sex.map(lambda x: 1 if (x == \"female\" ) else 0)\n",
        "\n",
        "#apply retunerar void som linje 14 - det var super tricky Elin / Emre K.\n",
        "#train['Sex'] = train['Sex'].apply(lambda x:1 if x=='male' else 0, axis=1)\n",
        "print(train.isna().sum())\n",
        "display(train)\n",
        "\n"
      ],
      "execution_count": 387,
      "outputs": [
        {
          "output_type": "stream",
          "text": [
            "PassengerId      0\n",
            "Survived         0\n",
            "Pclass           0\n",
            "Name             0\n",
            "Sex              0\n",
            "Age              0\n",
            "SibSp            0\n",
            "Parch            0\n",
            "Ticket           0\n",
            "Fare             0\n",
            "Cabin          687\n",
            "Embarked         2\n",
            "Age_cat          0\n",
            "harbor           0\n",
            "Gender           0\n",
            "dtype: int64\n"
          ],
          "name": "stdout"
        },
        {
          "output_type": "display_data",
          "data": {
            "text/html": [
              "<div>\n",
              "<style scoped>\n",
              "    .dataframe tbody tr th:only-of-type {\n",
              "        vertical-align: middle;\n",
              "    }\n",
              "\n",
              "    .dataframe tbody tr th {\n",
              "        vertical-align: top;\n",
              "    }\n",
              "\n",
              "    .dataframe thead th {\n",
              "        text-align: right;\n",
              "    }\n",
              "</style>\n",
              "<table border=\"1\" class=\"dataframe\">\n",
              "  <thead>\n",
              "    <tr style=\"text-align: right;\">\n",
              "      <th></th>\n",
              "      <th>PassengerId</th>\n",
              "      <th>Survived</th>\n",
              "      <th>Pclass</th>\n",
              "      <th>Name</th>\n",
              "      <th>Sex</th>\n",
              "      <th>Age</th>\n",
              "      <th>SibSp</th>\n",
              "      <th>Parch</th>\n",
              "      <th>Ticket</th>\n",
              "      <th>Fare</th>\n",
              "      <th>Cabin</th>\n",
              "      <th>Embarked</th>\n",
              "      <th>Age_cat</th>\n",
              "      <th>harbor</th>\n",
              "      <th>Gender</th>\n",
              "    </tr>\n",
              "  </thead>\n",
              "  <tbody>\n",
              "    <tr>\n",
              "      <th>0</th>\n",
              "      <td>1</td>\n",
              "      <td>0</td>\n",
              "      <td>3</td>\n",
              "      <td>Braund, Mr. Owen Harris</td>\n",
              "      <td>male</td>\n",
              "      <td>22.0</td>\n",
              "      <td>1</td>\n",
              "      <td>0</td>\n",
              "      <td>A/5 21171</td>\n",
              "      <td>7.2500</td>\n",
              "      <td>NaN</td>\n",
              "      <td>S</td>\n",
              "      <td>3.0</td>\n",
              "      <td>0</td>\n",
              "      <td>0</td>\n",
              "    </tr>\n",
              "    <tr>\n",
              "      <th>1</th>\n",
              "      <td>2</td>\n",
              "      <td>1</td>\n",
              "      <td>1</td>\n",
              "      <td>Cumings, Mrs. John Bradley (Florence Briggs Th...</td>\n",
              "      <td>female</td>\n",
              "      <td>38.0</td>\n",
              "      <td>1</td>\n",
              "      <td>0</td>\n",
              "      <td>PC 17599</td>\n",
              "      <td>71.2833</td>\n",
              "      <td>C85</td>\n",
              "      <td>C</td>\n",
              "      <td>1.0</td>\n",
              "      <td>1</td>\n",
              "      <td>1</td>\n",
              "    </tr>\n",
              "    <tr>\n",
              "      <th>2</th>\n",
              "      <td>3</td>\n",
              "      <td>1</td>\n",
              "      <td>3</td>\n",
              "      <td>Heikkinen, Miss. Laina</td>\n",
              "      <td>female</td>\n",
              "      <td>26.0</td>\n",
              "      <td>0</td>\n",
              "      <td>0</td>\n",
              "      <td>STON/O2. 3101282</td>\n",
              "      <td>7.9250</td>\n",
              "      <td>NaN</td>\n",
              "      <td>S</td>\n",
              "      <td>3.0</td>\n",
              "      <td>0</td>\n",
              "      <td>1</td>\n",
              "    </tr>\n",
              "    <tr>\n",
              "      <th>3</th>\n",
              "      <td>4</td>\n",
              "      <td>1</td>\n",
              "      <td>1</td>\n",
              "      <td>Futrelle, Mrs. Jacques Heath (Lily May Peel)</td>\n",
              "      <td>female</td>\n",
              "      <td>35.0</td>\n",
              "      <td>1</td>\n",
              "      <td>0</td>\n",
              "      <td>113803</td>\n",
              "      <td>53.1000</td>\n",
              "      <td>C123</td>\n",
              "      <td>S</td>\n",
              "      <td>1.0</td>\n",
              "      <td>0</td>\n",
              "      <td>1</td>\n",
              "    </tr>\n",
              "    <tr>\n",
              "      <th>4</th>\n",
              "      <td>5</td>\n",
              "      <td>0</td>\n",
              "      <td>3</td>\n",
              "      <td>Allen, Mr. William Henry</td>\n",
              "      <td>male</td>\n",
              "      <td>35.0</td>\n",
              "      <td>0</td>\n",
              "      <td>0</td>\n",
              "      <td>373450</td>\n",
              "      <td>8.0500</td>\n",
              "      <td>NaN</td>\n",
              "      <td>S</td>\n",
              "      <td>3.0</td>\n",
              "      <td>0</td>\n",
              "      <td>0</td>\n",
              "    </tr>\n",
              "    <tr>\n",
              "      <th>...</th>\n",
              "      <td>...</td>\n",
              "      <td>...</td>\n",
              "      <td>...</td>\n",
              "      <td>...</td>\n",
              "      <td>...</td>\n",
              "      <td>...</td>\n",
              "      <td>...</td>\n",
              "      <td>...</td>\n",
              "      <td>...</td>\n",
              "      <td>...</td>\n",
              "      <td>...</td>\n",
              "      <td>...</td>\n",
              "      <td>...</td>\n",
              "      <td>...</td>\n",
              "      <td>...</td>\n",
              "    </tr>\n",
              "    <tr>\n",
              "      <th>886</th>\n",
              "      <td>887</td>\n",
              "      <td>0</td>\n",
              "      <td>2</td>\n",
              "      <td>Montvila, Rev. Juozas</td>\n",
              "      <td>male</td>\n",
              "      <td>27.0</td>\n",
              "      <td>0</td>\n",
              "      <td>0</td>\n",
              "      <td>211536</td>\n",
              "      <td>13.0000</td>\n",
              "      <td>NaN</td>\n",
              "      <td>S</td>\n",
              "      <td>2.0</td>\n",
              "      <td>0</td>\n",
              "      <td>0</td>\n",
              "    </tr>\n",
              "    <tr>\n",
              "      <th>887</th>\n",
              "      <td>888</td>\n",
              "      <td>1</td>\n",
              "      <td>1</td>\n",
              "      <td>Graham, Miss. Margaret Edith</td>\n",
              "      <td>female</td>\n",
              "      <td>19.0</td>\n",
              "      <td>0</td>\n",
              "      <td>0</td>\n",
              "      <td>112053</td>\n",
              "      <td>30.0000</td>\n",
              "      <td>B42</td>\n",
              "      <td>S</td>\n",
              "      <td>1.0</td>\n",
              "      <td>0</td>\n",
              "      <td>1</td>\n",
              "    </tr>\n",
              "    <tr>\n",
              "      <th>888</th>\n",
              "      <td>889</td>\n",
              "      <td>0</td>\n",
              "      <td>3</td>\n",
              "      <td>Johnston, Miss. Catherine Helen \"Carrie\"</td>\n",
              "      <td>female</td>\n",
              "      <td>28.0</td>\n",
              "      <td>1</td>\n",
              "      <td>2</td>\n",
              "      <td>W./C. 6607</td>\n",
              "      <td>23.4500</td>\n",
              "      <td>NaN</td>\n",
              "      <td>S</td>\n",
              "      <td>3.0</td>\n",
              "      <td>0</td>\n",
              "      <td>1</td>\n",
              "    </tr>\n",
              "    <tr>\n",
              "      <th>889</th>\n",
              "      <td>890</td>\n",
              "      <td>1</td>\n",
              "      <td>1</td>\n",
              "      <td>Behr, Mr. Karl Howell</td>\n",
              "      <td>male</td>\n",
              "      <td>26.0</td>\n",
              "      <td>0</td>\n",
              "      <td>0</td>\n",
              "      <td>111369</td>\n",
              "      <td>30.0000</td>\n",
              "      <td>C148</td>\n",
              "      <td>C</td>\n",
              "      <td>1.0</td>\n",
              "      <td>1</td>\n",
              "      <td>0</td>\n",
              "    </tr>\n",
              "    <tr>\n",
              "      <th>890</th>\n",
              "      <td>891</td>\n",
              "      <td>0</td>\n",
              "      <td>3</td>\n",
              "      <td>Dooley, Mr. Patrick</td>\n",
              "      <td>male</td>\n",
              "      <td>32.0</td>\n",
              "      <td>0</td>\n",
              "      <td>0</td>\n",
              "      <td>370376</td>\n",
              "      <td>7.7500</td>\n",
              "      <td>NaN</td>\n",
              "      <td>Q</td>\n",
              "      <td>3.0</td>\n",
              "      <td>2</td>\n",
              "      <td>0</td>\n",
              "    </tr>\n",
              "  </tbody>\n",
              "</table>\n",
              "<p>891 rows × 15 columns</p>\n",
              "</div>"
            ],
            "text/plain": [
              "     PassengerId  Survived  Pclass  ... Age_cat harbor  Gender\n",
              "0              1         0       3  ...     3.0      0       0\n",
              "1              2         1       1  ...     1.0      1       1\n",
              "2              3         1       3  ...     3.0      0       1\n",
              "3              4         1       1  ...     1.0      0       1\n",
              "4              5         0       3  ...     3.0      0       0\n",
              "..           ...       ...     ...  ...     ...    ...     ...\n",
              "886          887         0       2  ...     2.0      0       0\n",
              "887          888         1       1  ...     1.0      0       1\n",
              "888          889         0       3  ...     3.0      0       1\n",
              "889          890         1       1  ...     1.0      1       0\n",
              "890          891         0       3  ...     3.0      2       0\n",
              "\n",
              "[891 rows x 15 columns]"
            ]
          },
          "metadata": {
            "tags": []
          }
        }
      ]
    },
    {
      "cell_type": "code",
      "metadata": {
        "id": "z-FmhvvP2NQt"
      },
      "source": [
        ""
      ],
      "execution_count": null,
      "outputs": []
    },
    {
      "cell_type": "markdown",
      "metadata": {
        "id": "Gt6YDfTUoAvH"
      },
      "source": [
        "**QC** Skapa modell, träna och testa (här behöver ni själva skapa ett antal kodblock för de olika deluppgifterna.)\n",
        "\n",
        "(OBS! Se till att ni döper era variabler till X-df, X_test,y_df,y_test annars fungerar inte utvärderingskoden)\n",
        "\n",
        ">\n",
        ">a. Starta med att formatera data så att du skapar X och y där y är den beroende variabeln survival och X är samtliga beroende variabler (de som ni bestämt er för att ha kvar i ert dataset)\n",
        ">\n",
        ">b. Dela i träning (80%) och test (20%)\n",
        ">\n",
        ">c. Har vi tillräckligt med data för att kunna träna vår modell eller måste vi ta bort fler kolumner? HINT! en rule of thumb säger minst 50 rader per oberoende variabel.\n",
        ">\n",
        ">d.Skapa och träna modell (kod finns för starten)\n",
        ">\n",
        ">e.Testa modell på träningsdata\n",
        ">\n",
        ">f. Vad är sannolikheten för att en kvinna, ålder 34, med två barn som reser i 2:a klass med sin man överlever? \n",
        ">\n"
      ]
    },
    {
      "cell_type": "code",
      "metadata": {
        "colab": {
          "base_uri": "https://localhost:8080/",
          "height": 404
        },
        "id": "2FzGXIDMdLEU",
        "outputId": "2a7f72b0-f336-4949-9534-90be814b31ff"
      },
      "source": [
        "#skpa x and y\r\n",
        "\r\n",
        "titanic_final_data = train[['Gender','Pclass', 'SibSp','Age_cat', 'Parch','harbor',\"Age\"]]\r\n",
        "\r\n",
        "\r\n",
        "X = titanic_final_data\r\n",
        "y = train[\"Survived\"].values\r\n",
        "\r\n",
        "\r\n",
        "titanic_final_data\r\n"
      ],
      "execution_count": 512,
      "outputs": [
        {
          "output_type": "execute_result",
          "data": {
            "text/html": [
              "<div>\n",
              "<style scoped>\n",
              "    .dataframe tbody tr th:only-of-type {\n",
              "        vertical-align: middle;\n",
              "    }\n",
              "\n",
              "    .dataframe tbody tr th {\n",
              "        vertical-align: top;\n",
              "    }\n",
              "\n",
              "    .dataframe thead th {\n",
              "        text-align: right;\n",
              "    }\n",
              "</style>\n",
              "<table border=\"1\" class=\"dataframe\">\n",
              "  <thead>\n",
              "    <tr style=\"text-align: right;\">\n",
              "      <th></th>\n",
              "      <th>Gender</th>\n",
              "      <th>Pclass</th>\n",
              "      <th>SibSp</th>\n",
              "      <th>Age_cat</th>\n",
              "      <th>Parch</th>\n",
              "      <th>harbor</th>\n",
              "      <th>Age</th>\n",
              "    </tr>\n",
              "  </thead>\n",
              "  <tbody>\n",
              "    <tr>\n",
              "      <th>0</th>\n",
              "      <td>0</td>\n",
              "      <td>3</td>\n",
              "      <td>1</td>\n",
              "      <td>3.0</td>\n",
              "      <td>0</td>\n",
              "      <td>0</td>\n",
              "      <td>22.0</td>\n",
              "    </tr>\n",
              "    <tr>\n",
              "      <th>1</th>\n",
              "      <td>1</td>\n",
              "      <td>1</td>\n",
              "      <td>1</td>\n",
              "      <td>1.0</td>\n",
              "      <td>0</td>\n",
              "      <td>1</td>\n",
              "      <td>38.0</td>\n",
              "    </tr>\n",
              "    <tr>\n",
              "      <th>2</th>\n",
              "      <td>1</td>\n",
              "      <td>3</td>\n",
              "      <td>0</td>\n",
              "      <td>3.0</td>\n",
              "      <td>0</td>\n",
              "      <td>0</td>\n",
              "      <td>26.0</td>\n",
              "    </tr>\n",
              "    <tr>\n",
              "      <th>3</th>\n",
              "      <td>1</td>\n",
              "      <td>1</td>\n",
              "      <td>1</td>\n",
              "      <td>1.0</td>\n",
              "      <td>0</td>\n",
              "      <td>0</td>\n",
              "      <td>35.0</td>\n",
              "    </tr>\n",
              "    <tr>\n",
              "      <th>4</th>\n",
              "      <td>0</td>\n",
              "      <td>3</td>\n",
              "      <td>0</td>\n",
              "      <td>3.0</td>\n",
              "      <td>0</td>\n",
              "      <td>0</td>\n",
              "      <td>35.0</td>\n",
              "    </tr>\n",
              "    <tr>\n",
              "      <th>...</th>\n",
              "      <td>...</td>\n",
              "      <td>...</td>\n",
              "      <td>...</td>\n",
              "      <td>...</td>\n",
              "      <td>...</td>\n",
              "      <td>...</td>\n",
              "      <td>...</td>\n",
              "    </tr>\n",
              "    <tr>\n",
              "      <th>886</th>\n",
              "      <td>0</td>\n",
              "      <td>2</td>\n",
              "      <td>0</td>\n",
              "      <td>2.0</td>\n",
              "      <td>0</td>\n",
              "      <td>0</td>\n",
              "      <td>27.0</td>\n",
              "    </tr>\n",
              "    <tr>\n",
              "      <th>887</th>\n",
              "      <td>1</td>\n",
              "      <td>1</td>\n",
              "      <td>0</td>\n",
              "      <td>1.0</td>\n",
              "      <td>0</td>\n",
              "      <td>0</td>\n",
              "      <td>19.0</td>\n",
              "    </tr>\n",
              "    <tr>\n",
              "      <th>888</th>\n",
              "      <td>1</td>\n",
              "      <td>3</td>\n",
              "      <td>1</td>\n",
              "      <td>3.0</td>\n",
              "      <td>2</td>\n",
              "      <td>0</td>\n",
              "      <td>28.0</td>\n",
              "    </tr>\n",
              "    <tr>\n",
              "      <th>889</th>\n",
              "      <td>0</td>\n",
              "      <td>1</td>\n",
              "      <td>0</td>\n",
              "      <td>1.0</td>\n",
              "      <td>0</td>\n",
              "      <td>1</td>\n",
              "      <td>26.0</td>\n",
              "    </tr>\n",
              "    <tr>\n",
              "      <th>890</th>\n",
              "      <td>0</td>\n",
              "      <td>3</td>\n",
              "      <td>0</td>\n",
              "      <td>3.0</td>\n",
              "      <td>0</td>\n",
              "      <td>2</td>\n",
              "      <td>32.0</td>\n",
              "    </tr>\n",
              "  </tbody>\n",
              "</table>\n",
              "<p>891 rows × 7 columns</p>\n",
              "</div>"
            ],
            "text/plain": [
              "     Gender  Pclass  SibSp  Age_cat  Parch  harbor   Age\n",
              "0         0       3      1      3.0      0       0  22.0\n",
              "1         1       1      1      1.0      0       1  38.0\n",
              "2         1       3      0      3.0      0       0  26.0\n",
              "3         1       1      1      1.0      0       0  35.0\n",
              "4         0       3      0      3.0      0       0  35.0\n",
              "..      ...     ...    ...      ...    ...     ...   ...\n",
              "886       0       2      0      2.0      0       0  27.0\n",
              "887       1       1      0      1.0      0       0  19.0\n",
              "888       1       3      1      3.0      2       0  28.0\n",
              "889       0       1      0      1.0      0       1  26.0\n",
              "890       0       3      0      3.0      0       2  32.0\n",
              "\n",
              "[891 rows x 7 columns]"
            ]
          },
          "metadata": {
            "tags": []
          },
          "execution_count": 512
        }
      ]
    },
    {
      "cell_type": "code",
      "metadata": {
        "id": "JjJyc8lmVCA6",
        "colab": {
          "base_uri": "https://localhost:8080/"
        },
        "outputId": "fe6b7d82-e605-49d2-b1a7-2016fce5a55c"
      },
      "source": [
        "#a\r\n",
        "X_train, X_test, y_train, y_test = train_test_split(X, y, test_size=0.2)\r\n",
        "print(\"tränings data har {} rader\".format(len(X_train)))\r\n",
        "print(\"test data har\t{} rader\".format(len(X_test)))\r\n",
        "\r\n"
      ],
      "execution_count": 513,
      "outputs": [
        {
          "output_type": "stream",
          "text": [
            "tränings data har 712 rader\n",
            "test data har\t179 rader\n"
          ],
          "name": "stdout"
        }
      ]
    },
    {
      "cell_type": "code",
      "metadata": {
        "id": "6TuYvp-CyfJP"
      },
      "source": [
        "#C "
      ],
      "execution_count": 409,
      "outputs": []
    },
    {
      "cell_type": "code",
      "metadata": {
        "id": "N07V-xE0oAvH"
      },
      "source": [
        "#D\n",
        "\n",
        "#Startkod för uppgift d) skapa och träna modell\n",
        "\n",
        "#Assumed you have, X (predictor) and Y (target) for training data set and x_test(predictor) of test_dataset\n",
        "# Create logistic regression object\n",
        "LogReg = LogisticRegression() \n",
        "# Train the model using the training sets and check score\n",
        "LogReg.fit(X_train, y_train)\n",
        "logreg_score = round(LogReg.score(X_train, y_train) * 100, 2)\n",
        "#Equation coefficient and Intercept\n"
      ],
      "execution_count": 514,
      "outputs": []
    },
    {
      "cell_type": "code",
      "metadata": {
        "colab": {
          "base_uri": "https://localhost:8080/"
        },
        "id": "hGdeKzOeXkAE",
        "outputId": "0d057e89-86c6-4d92-878f-be9ada4b3ed6"
      },
      "source": [
        "#E\r\n",
        "print('Model accuracy (a.k.a Logistic Regression Score) : ', logreg_score)\r\n",
        "print('Coefficient: \\n', LogReg.coef_)\r\n",
        "print('Intercept: \\n', LogReg.intercept_)\r\n",
        "\r\n",
        "#Predict Output\r\n",
        "predicted= LogReg.predict(X_test)\r\n",
        "\r\n",
        "\r\n",
        "\r\n",
        "print(classification_report(y_test,predicted))\r\n"
      ],
      "execution_count": 515,
      "outputs": [
        {
          "output_type": "stream",
          "text": [
            "Model accuracy (a.k.a Logistic Regression Score) :  79.35\n",
            "Coefficient: \n",
            " [[ 2.73055693 -0.57774508 -0.32690591 -0.57774508 -0.01547225  0.17529744\n",
            "  -0.03911854]]\n",
            "Intercept: \n",
            " [2.29924976]\n",
            "              precision    recall  f1-score   support\n",
            "\n",
            "           0       0.83      0.85      0.84       113\n",
            "           1       0.73      0.71      0.72        66\n",
            "\n",
            "    accuracy                           0.80       179\n",
            "   macro avg       0.78      0.78      0.78       179\n",
            "weighted avg       0.80      0.80      0.80       179\n",
            "\n"
          ],
          "name": "stdout"
        }
      ]
    },
    {
      "cell_type": "code",
      "metadata": {
        "colab": {
          "base_uri": "https://localhost:8080/"
        },
        "id": "ye5xZivUbi9W",
        "outputId": "2c464b9f-20d5-4864-95dd-b751b4cfcd05"
      },
      "source": [
        "titanic_final_data.isnull().any()\r\n"
      ],
      "execution_count": 472,
      "outputs": [
        {
          "output_type": "execute_result",
          "data": {
            "text/plain": [
              "Gender     False\n",
              "Pclass     False\n",
              "SibSp      False\n",
              "Age_cat    False\n",
              "Parch      False\n",
              "harbor     False\n",
              "dtype: bool"
            ]
          },
          "metadata": {
            "tags": []
          },
          "execution_count": 472
        }
      ]
    },
    {
      "cell_type": "code",
      "metadata": {
        "colab": {
          "base_uri": "https://localhost:8080/"
        },
        "id": "nMCLoeFNHox4",
        "outputId": "84e6fa2d-b63a-4641-fda9-983fb96bf235"
      },
      "source": [
        "#f  kvinna, ålder 34, med två barn som reser i 2:a klass me\r\n",
        "survived_wm_and_kidds = train[[\"Parch\", \"Survived\",\"Age\",\"Gender\"]].groupby(['Parch'], as_index=False).mean().sort_values(by='Survived', ascending=False)\r\n",
        "\r\n",
        "w = (survived_wm_and_kidds[\"Age\"] == 34).mean() \r\n",
        "s = (survived_wm_and_kidds[\"Gender\"] ==1).mean()\r\n",
        "p2= (survived_wm_and_kidds[\"Parch\"]==2).mean()\r\n",
        "sur = (survived_wm_and_kidds[\"Survived\"]==1).mean()\r\n",
        "\r\n",
        "print(w+s+p2+sur)\r\n",
        "\r\n"
      ],
      "execution_count": 567,
      "outputs": [
        {
          "output_type": "stream",
          "text": [
            "0.2857142857142857\n"
          ],
          "name": "stdout"
        }
      ]
    },
    {
      "cell_type": "markdown",
      "metadata": {
        "id": "1jyaRYr5oAvI"
      },
      "source": [
        "**QC** Utvärdera modell\n",
        "\n",
        "I nedanstående kodblock utvärderas klassificeringsmodellen på några olika sätt. \n",
        "\n",
        ">\n",
        ">a. Vilka sätt att utvärdera en klassificeringsmodell är kodade nedan?\n",
        ">\n",
        ">b. För varje utvärderingsmetod som är kodad (Confusion matrix  och Classification report), vad säger de om den klassificerare ni tränat? \n",
        ">\n",
        ">c. Vad är er bedömning av er klassificerare (bra/dålig) vad baserar ni detta på och varför?\n",
        ">"
      ]
    },
    {
      "cell_type": "code",
      "metadata": {
        "id": "3T0Mhs-uoAvJ",
        "colab": {
          "base_uri": "https://localhost:8080/",
          "height": 195
        },
        "outputId": "97637c2e-af34-4194-aeca-d832a4002998"
      },
      "source": [
        "from sklearn.metrics import confusion_matrix\n",
        "confusion_matrix = confusion_matrix(y_test, y_pred)\n",
        "confusion_matrix"
      ],
      "execution_count": 334,
      "outputs": [
        {
          "output_type": "error",
          "ename": "NameError",
          "evalue": "ignored",
          "traceback": [
            "\u001b[0;31m---------------------------------------------------------------------------\u001b[0m",
            "\u001b[0;31mNameError\u001b[0m                                 Traceback (most recent call last)",
            "\u001b[0;32m<ipython-input-334-0b4c7c4e84b6>\u001b[0m in \u001b[0;36m<module>\u001b[0;34m()\u001b[0m\n\u001b[1;32m      1\u001b[0m \u001b[0;32mfrom\u001b[0m \u001b[0msklearn\u001b[0m\u001b[0;34m.\u001b[0m\u001b[0mmetrics\u001b[0m \u001b[0;32mimport\u001b[0m \u001b[0mconfusion_matrix\u001b[0m\u001b[0;34m\u001b[0m\u001b[0;34m\u001b[0m\u001b[0m\n\u001b[0;32m----> 2\u001b[0;31m \u001b[0mconfusion_matrix\u001b[0m \u001b[0;34m=\u001b[0m \u001b[0mconfusion_matrix\u001b[0m\u001b[0;34m(\u001b[0m\u001b[0my_test\u001b[0m\u001b[0;34m,\u001b[0m \u001b[0my_pred\u001b[0m\u001b[0;34m)\u001b[0m\u001b[0;34m\u001b[0m\u001b[0;34m\u001b[0m\u001b[0m\n\u001b[0m\u001b[1;32m      3\u001b[0m \u001b[0mconfusion_matrix\u001b[0m\u001b[0;34m\u001b[0m\u001b[0;34m\u001b[0m\u001b[0m\n",
            "\u001b[0;31mNameError\u001b[0m: name 'y_pred' is not defined"
          ]
        }
      ]
    },
    {
      "cell_type": "code",
      "metadata": {
        "id": "hbqg6D3FoAvJ",
        "colab": {
          "base_uri": "https://localhost:8080/",
          "height": 816
        },
        "outputId": "21d197ba-f1a2-40c9-ad5a-cba3b72bb01a"
      },
      "source": [
        "class_names=[0,1] # name  of classes\n",
        "fig, ax = plt.subplots()\n",
        "tick_marks = np.arange(len(class_names))\n",
        "plt.xticks(tick_marks, class_names)\n",
        "plt.yticks(tick_marks, class_names)\n",
        "# create heatmap\n",
        "sb.heatmap(pd.DataFrame(confusion_matrix), annot=True, cmap=\"YlGnBu\" ,fmt='g')\n",
        "ax.xaxis.set_label_position(\"top\")\n",
        "plt.tight_layout()\n",
        "plt.title('Confusion matrix', y=1.1)\n",
        "plt.ylabel('Actual label')\n",
        "plt.xlabel('Predicted label')"
      ],
      "execution_count": 357,
      "outputs": [
        {
          "output_type": "error",
          "ename": "ValueError",
          "evalue": "ignored",
          "traceback": [
            "\u001b[0;31m---------------------------------------------------------------------------\u001b[0m",
            "\u001b[0;31mValueError\u001b[0m                                Traceback (most recent call last)",
            "\u001b[0;32m<ipython-input-357-fe2d38f093ea>\u001b[0m in \u001b[0;36m<module>\u001b[0;34m()\u001b[0m\n\u001b[1;32m      5\u001b[0m \u001b[0mplt\u001b[0m\u001b[0;34m.\u001b[0m\u001b[0myticks\u001b[0m\u001b[0;34m(\u001b[0m\u001b[0mtick_marks\u001b[0m\u001b[0;34m,\u001b[0m \u001b[0mclass_names\u001b[0m\u001b[0;34m)\u001b[0m\u001b[0;34m\u001b[0m\u001b[0;34m\u001b[0m\u001b[0m\n\u001b[1;32m      6\u001b[0m \u001b[0;31m# create heatmap\u001b[0m\u001b[0;34m\u001b[0m\u001b[0;34m\u001b[0m\u001b[0;34m\u001b[0m\u001b[0m\n\u001b[0;32m----> 7\u001b[0;31m \u001b[0msb\u001b[0m\u001b[0;34m.\u001b[0m\u001b[0mheatmap\u001b[0m\u001b[0;34m(\u001b[0m\u001b[0mpd\u001b[0m\u001b[0;34m.\u001b[0m\u001b[0mDataFrame\u001b[0m\u001b[0;34m(\u001b[0m\u001b[0mconfusion_matrix\u001b[0m\u001b[0;34m)\u001b[0m\u001b[0;34m,\u001b[0m \u001b[0mannot\u001b[0m\u001b[0;34m=\u001b[0m\u001b[0;32mTrue\u001b[0m\u001b[0;34m,\u001b[0m \u001b[0mcmap\u001b[0m\u001b[0;34m=\u001b[0m\u001b[0;34m\"YlGnBu\"\u001b[0m \u001b[0;34m,\u001b[0m\u001b[0mfmt\u001b[0m\u001b[0;34m=\u001b[0m\u001b[0;34m'g'\u001b[0m\u001b[0;34m)\u001b[0m\u001b[0;34m\u001b[0m\u001b[0;34m\u001b[0m\u001b[0m\n\u001b[0m\u001b[1;32m      8\u001b[0m \u001b[0max\u001b[0m\u001b[0;34m.\u001b[0m\u001b[0mxaxis\u001b[0m\u001b[0;34m.\u001b[0m\u001b[0mset_label_position\u001b[0m\u001b[0;34m(\u001b[0m\u001b[0;34m\"top\"\u001b[0m\u001b[0;34m)\u001b[0m\u001b[0;34m\u001b[0m\u001b[0;34m\u001b[0m\u001b[0m\n\u001b[1;32m      9\u001b[0m \u001b[0mplt\u001b[0m\u001b[0;34m.\u001b[0m\u001b[0mtight_layout\u001b[0m\u001b[0;34m(\u001b[0m\u001b[0;34m)\u001b[0m\u001b[0;34m\u001b[0m\u001b[0;34m\u001b[0m\u001b[0m\n",
            "\u001b[0;32m/usr/local/lib/python3.7/dist-packages/pandas/core/frame.py\u001b[0m in \u001b[0;36m__init__\u001b[0;34m(self, data, index, columns, dtype, copy)\u001b[0m\n\u001b[1;32m    527\u001b[0m         \u001b[0;32melse\u001b[0m\u001b[0;34m:\u001b[0m\u001b[0;34m\u001b[0m\u001b[0;34m\u001b[0m\u001b[0m\n\u001b[1;32m    528\u001b[0m             \u001b[0;32mif\u001b[0m \u001b[0mindex\u001b[0m \u001b[0;32mis\u001b[0m \u001b[0;32mNone\u001b[0m \u001b[0;32mor\u001b[0m \u001b[0mcolumns\u001b[0m \u001b[0;32mis\u001b[0m \u001b[0;32mNone\u001b[0m\u001b[0;34m:\u001b[0m\u001b[0;34m\u001b[0m\u001b[0;34m\u001b[0m\u001b[0m\n\u001b[0;32m--> 529\u001b[0;31m                 \u001b[0;32mraise\u001b[0m \u001b[0mValueError\u001b[0m\u001b[0;34m(\u001b[0m\u001b[0;34m\"DataFrame constructor not properly called!\"\u001b[0m\u001b[0;34m)\u001b[0m\u001b[0;34m\u001b[0m\u001b[0;34m\u001b[0m\u001b[0m\n\u001b[0m\u001b[1;32m    530\u001b[0m \u001b[0;34m\u001b[0m\u001b[0m\n\u001b[1;32m    531\u001b[0m             \u001b[0;32mif\u001b[0m \u001b[0;32mnot\u001b[0m \u001b[0mdtype\u001b[0m\u001b[0;34m:\u001b[0m\u001b[0;34m\u001b[0m\u001b[0;34m\u001b[0m\u001b[0m\n",
            "\u001b[0;31mValueError\u001b[0m: DataFrame constructor not properly called!"
          ]
        },
        {
          "output_type": "display_data",
          "data": {
            "image/png": "[encoded data removed]",
            "text/plain": [
              "<Figure size 720x576 with 1 Axes>"
            ]
          },
          "metadata": {
            "tags": []
          }
        }
      ]
    },
    {
      "cell_type": "code",
      "metadata": {
        "id": "5C42i3PLoAvJ"
      },
      "source": [
        "print(classification_report(y_test, y_pred))"
      ],
      "execution_count": null,
      "outputs": []
    },
    {
      "cell_type": "markdown",
      "metadata": {
        "id": "ZrF5efmuoAvK"
      },
      "source": [
        "### Desicion trees för att bestämma vilka som överlever\n",
        "\n",
        "Vi ska också testa att använda ett beslutsträd för att bestämma vilka som överlever. Koden för detta är redan given nedan. Dock ska ni besvara några frågor kring beslutsträd och jämföra resultatet mellan de två klassificerarna. \n",
        "\n",
        "**QC** Följande frågor ska besvaras, vissa kan kräva att ni skriver kod. Ni ska också (kortfattat) kommentera koden så att det framgår vad som görs.\n",
        "\n",
        ">\n",
        ">a. Vilka oberoende variabler (features) används i beslutsträdet för att avgöra vem som överlever?\n",
        ">\n",
        ">b.Hur många män respektive kvinnor överlever i prediktionen om du testar att prediktera med endast de 10 första raderna som sample (OBS! Kräver kod)\n",
        ">\n",
        ">c. Hur många felaktiga respektive korrekta prediktioner gör beslutsträdet i jämförelse med den logistiska regressionen?\n",
        ">\n",
        ">d. Vilken av algoritmerna är \"bäst? för uppgiften?\n",
        ">\n",
        ">e. Vilka svagheter respektive styrkor har de båda modellerna i jämförelse med varandra?\n",
        ">\n",
        ">f.Hur har beslutsträdet \"tänkt\" för att komma fram till modellen?\n",
        ">\n"
      ]
    },
    {
      "cell_type": "code",
      "metadata": {
        "id": "8SxUG1E0oAvL"
      },
      "source": [
        "from graphviz import Source \n",
        "from sklearn.tree import export_graphviz \n",
        "from sklearn import tree\n"
      ],
      "execution_count": null,
      "outputs": []
    },
    {
      "cell_type": "code",
      "metadata": {
        "id": "jX5eo-1zoAvM",
        "colab": {
          "base_uri": "https://localhost:8080/",
          "height": 201
        },
        "outputId": "d168d3c1-2d4b-4e5c-b9ce-5b13d7aba399"
      },
      "source": [
        "survived_data = titantic_passengers.survived #detta motsvarar y\n",
        "titantic_passengers = titantic_passengers[['sex_male', 'fare', 'age', 'sibsp']] #motsvarar X\n",
        "titantic_passengers.info()\n"
      ],
      "execution_count": null,
      "outputs": [
        {
          "output_type": "error",
          "ename": "NameError",
          "evalue": "ignored",
          "traceback": [
            "\u001b[0;31m---------------------------------------------------------------------------\u001b[0m",
            "\u001b[0;31mNameError\u001b[0m                                 Traceback (most recent call last)",
            "\u001b[0;32m<ipython-input-131-a437501afe67>\u001b[0m in \u001b[0;36m<module>\u001b[0;34m()\u001b[0m\n\u001b[0;32m----> 1\u001b[0;31m \u001b[0msurvived_data\u001b[0m \u001b[0;34m=\u001b[0m \u001b[0mtitantic_passengers\u001b[0m\u001b[0;34m.\u001b[0m\u001b[0msurvived\u001b[0m \u001b[0;31m#detta motsvarar y\u001b[0m\u001b[0;34m\u001b[0m\u001b[0;34m\u001b[0m\u001b[0m\n\u001b[0m\u001b[1;32m      2\u001b[0m \u001b[0mtitantic_passengers\u001b[0m \u001b[0;34m=\u001b[0m \u001b[0mtitantic_passengers\u001b[0m\u001b[0;34m[\u001b[0m\u001b[0;34m[\u001b[0m\u001b[0;34m'sex_male'\u001b[0m\u001b[0;34m,\u001b[0m \u001b[0;34m'fare'\u001b[0m\u001b[0;34m,\u001b[0m \u001b[0;34m'age'\u001b[0m\u001b[0;34m,\u001b[0m \u001b[0;34m'sibsp'\u001b[0m\u001b[0;34m]\u001b[0m\u001b[0;34m]\u001b[0m \u001b[0;31m#motsvarar X\u001b[0m\u001b[0;34m\u001b[0m\u001b[0;34m\u001b[0m\u001b[0m\n\u001b[1;32m      3\u001b[0m \u001b[0mtitantic_passengers\u001b[0m\u001b[0;34m.\u001b[0m\u001b[0minfo\u001b[0m\u001b[0;34m(\u001b[0m\u001b[0;34m)\u001b[0m\u001b[0;34m\u001b[0m\u001b[0;34m\u001b[0m\u001b[0m\n",
            "\u001b[0;31mNameError\u001b[0m: name 'titantic_passengers' is not defined"
          ]
        }
      ]
    },
    {
      "cell_type": "code",
      "metadata": {
        "id": "i8YK7qCZoAvM",
        "colab": {
          "base_uri": "https://localhost:8080/",
          "height": 201
        },
        "outputId": "c42f5709-3377-4779-cf06-f8f3ec37586e"
      },
      "source": [
        "X_train, X_test, y_train, y_test = train_test_split(titantic_passengers, survived_data, test_size=0.25)\n",
        "print(\"Our training data has {} rows\".format(len(X_train)))\n",
        "print(\"Our test data has {} rows\".format(len(X_test)))"
      ],
      "execution_count": null,
      "outputs": [
        {
          "output_type": "error",
          "ename": "NameError",
          "evalue": "ignored",
          "traceback": [
            "\u001b[0;31m---------------------------------------------------------------------------\u001b[0m",
            "\u001b[0;31mNameError\u001b[0m                                 Traceback (most recent call last)",
            "\u001b[0;32m<ipython-input-132-462bae9018b8>\u001b[0m in \u001b[0;36m<module>\u001b[0;34m()\u001b[0m\n\u001b[0;32m----> 1\u001b[0;31m \u001b[0mX_train\u001b[0m\u001b[0;34m,\u001b[0m \u001b[0mX_test\u001b[0m\u001b[0;34m,\u001b[0m \u001b[0my_train\u001b[0m\u001b[0;34m,\u001b[0m \u001b[0my_test\u001b[0m \u001b[0;34m=\u001b[0m \u001b[0mtrain_test_split\u001b[0m\u001b[0;34m(\u001b[0m\u001b[0mtitantic_passengers\u001b[0m\u001b[0;34m,\u001b[0m \u001b[0msurvived_data\u001b[0m\u001b[0;34m,\u001b[0m \u001b[0mtest_size\u001b[0m\u001b[0;34m=\u001b[0m\u001b[0;36m0.25\u001b[0m\u001b[0;34m)\u001b[0m\u001b[0;34m\u001b[0m\u001b[0;34m\u001b[0m\u001b[0m\n\u001b[0m\u001b[1;32m      2\u001b[0m \u001b[0mprint\u001b[0m\u001b[0;34m(\u001b[0m\u001b[0;34m\"Our training data has {} rows\"\u001b[0m\u001b[0;34m.\u001b[0m\u001b[0mformat\u001b[0m\u001b[0;34m(\u001b[0m\u001b[0mlen\u001b[0m\u001b[0;34m(\u001b[0m\u001b[0mX_train\u001b[0m\u001b[0;34m)\u001b[0m\u001b[0;34m)\u001b[0m\u001b[0;34m)\u001b[0m\u001b[0;34m\u001b[0m\u001b[0;34m\u001b[0m\u001b[0m\n\u001b[1;32m      3\u001b[0m \u001b[0mprint\u001b[0m\u001b[0;34m(\u001b[0m\u001b[0;34m\"Our test data has {} rows\"\u001b[0m\u001b[0;34m.\u001b[0m\u001b[0mformat\u001b[0m\u001b[0;34m(\u001b[0m\u001b[0mlen\u001b[0m\u001b[0;34m(\u001b[0m\u001b[0mX_test\u001b[0m\u001b[0;34m)\u001b[0m\u001b[0;34m)\u001b[0m\u001b[0;34m)\u001b[0m\u001b[0;34m\u001b[0m\u001b[0;34m\u001b[0m\u001b[0m\n",
            "\u001b[0;31mNameError\u001b[0m: name 'titantic_passengers' is not defined"
          ]
        }
      ]
    },
    {
      "cell_type": "code",
      "metadata": {
        "id": "ErRu1HVZoAvM"
      },
      "source": [
        "classifier = DecisionTreeClassifier(max_depth=3)\n",
        "classifier.fit(X_train.values, y_train.values)"
      ],
      "execution_count": null,
      "outputs": []
    },
    {
      "cell_type": "code",
      "metadata": {
        "id": "-FztR_-2oAvN"
      },
      "source": [
        "y_pred = classifier.predict(X_test.values)"
      ],
      "execution_count": null,
      "outputs": []
    },
    {
      "cell_type": "code",
      "metadata": {
        "id": "h8mwagmjoAvN"
      },
      "source": [
        "from sklearn.metrics import confusion_matrix\n",
        "confusion_matrix = confusion_matrix(y_test.values, y_pred)\n",
        "confusion_matrix"
      ],
      "execution_count": null,
      "outputs": []
    },
    {
      "cell_type": "code",
      "metadata": {
        "id": "Hf8EEq8xoAvN"
      },
      "source": [
        "print(classification_report(y_test, y_pred))"
      ],
      "execution_count": null,
      "outputs": []
    },
    {
      "cell_type": "code",
      "metadata": {
        "id": "FPsJN6yhHF45"
      },
      "source": [
        ""
      ],
      "execution_count": null,
      "outputs": []
    },
    {
      "cell_type": "code",
      "metadata": {
        "id": "a7-pOhg0oAvN"
      },
      "source": [
        "tree_plot = Source(tree.export_graphviz(classifier, out_file=None, \n",
        "                            feature_names=X_train.columns, class_names=['Dead', 'Alive'], \n",
        "                            filled=True, rounded=True, special_characters=True))\n",
        "tree_plot"
      ],
      "execution_count": null,
      "outputs": []
    },
    {
      "cell_type": "markdown",
      "metadata": {
        "id": "LuNSYqw6oAvN"
      },
      "source": [
        "*Lämna in länk till kod i colaboratory eller till GitHub repositoriet (med koden exekverad) för rättning.*"
      ]
    }
  ]
}